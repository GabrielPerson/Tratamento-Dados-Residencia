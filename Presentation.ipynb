{
 "cells": [
  {
   "cell_type": "markdown",
   "metadata": {
    "deletable": false,
    "editable": false,
    "nbgrader": {
     "checksum": "38fd99a0752804fa58a04ee088c6b296",
     "grade": false,
     "grade_id": "localiza",
     "locked": true,
     "schema_version": 1,
     "solution": false
    }
   },
   "source": [
    "![](unimed.png)"
   ]
  },
  {
   "cell_type": "markdown",
   "metadata": {
    "deletable": false,
    "nbgrader": {
     "checksum": "7394abfef286a14f0028e27029cdddc7",
     "grade": false,
     "grade_id": "cell-6f19b61b28f97b3d",
     "locked": true,
     "schema_version": 1,
     "solution": false
    }
   },
   "source": [
    "---\n",
    "## Feature Selection\n",
    "\n",
    "Neste hands-on, queremos revisitar as técnicas de pré-processamento, como normalizações **(Max-Min, Z-score)** e discretização de dados. Além disso, aprederemos métodos para seleção de features, como **PCA** e **Information Gain**. Além disso, vamos trabalhar com a base do Titanic que usamos nas atividades anteriores, que estão disponíveis no arquivo **titanic_data.csv**."
   ]
  },
  {
   "cell_type": "code",
   "execution_count": 1,
   "metadata": {
    "deletable": false,
    "editable": false,
    "nbgrader": {
     "checksum": "3d6bc6467e585480a4e7be4c5176e501",
     "grade": false,
     "grade_id": "RO_bibliotecas",
     "locked": true,
     "schema_version": 1,
     "solution": false
    }
   },
   "outputs": [],
   "source": [
    "import numpy as np\n",
    "import pandas as pd\n",
    "from sklearn.decomposition import PCA\n",
    "import matplotlib.pyplot as plt"
   ]
  },
  {
   "cell_type": "markdown",
   "metadata": {
    "deletable": false,
    "nbgrader": {
     "checksum": "7394abfef286a14f0028e27029cdddc7",
     "grade": false,
     "grade_id": "cell-6f19b61b28f97b3d",
     "locked": true,
     "schema_version": 1,
     "solution": false
    }
   },
   "source": [
    "## Parte 1 - Pré-processamento"
   ]
  },
  {
   "cell_type": "markdown",
   "metadata": {},
   "source": [
    "Primeiro, vamos refazer o pré-processamento de dados que haviamos feito anteriormente."
   ]
  },
  {
   "cell_type": "code",
   "execution_count": 3,
   "metadata": {
    "scrolled": false
   },
   "outputs": [
    {
     "data": {
      "text/html": [
       "<div>\n",
       "<style scoped>\n",
       "    .dataframe tbody tr th:only-of-type {\n",
       "        vertical-align: middle;\n",
       "    }\n",
       "\n",
       "    .dataframe tbody tr th {\n",
       "        vertical-align: top;\n",
       "    }\n",
       "\n",
       "    .dataframe thead th {\n",
       "        text-align: right;\n",
       "    }\n",
       "</style>\n",
       "<table border=\"1\" class=\"dataframe\">\n",
       "  <thead>\n",
       "    <tr style=\"text-align: right;\">\n",
       "      <th></th>\n",
       "      <th>Sobreviveu?</th>\n",
       "      <th>Classe</th>\n",
       "      <th>Sexo</th>\n",
       "      <th>Idade</th>\n",
       "      <th>Irmãos/Cônjuge</th>\n",
       "      <th>Pais/Crianças</th>\n",
       "      <th>Tarifa</th>\n",
       "      <th>Embarque</th>\n",
       "    </tr>\n",
       "    <tr>\n",
       "      <th>IdPassageiro</th>\n",
       "      <th></th>\n",
       "      <th></th>\n",
       "      <th></th>\n",
       "      <th></th>\n",
       "      <th></th>\n",
       "      <th></th>\n",
       "      <th></th>\n",
       "      <th></th>\n",
       "    </tr>\n",
       "  </thead>\n",
       "  <tbody>\n",
       "    <tr>\n",
       "      <th>1</th>\n",
       "      <td>0</td>\n",
       "      <td>3</td>\n",
       "      <td>male</td>\n",
       "      <td>22.0</td>\n",
       "      <td>1</td>\n",
       "      <td>0</td>\n",
       "      <td>7.2500</td>\n",
       "      <td>S</td>\n",
       "    </tr>\n",
       "    <tr>\n",
       "      <th>2</th>\n",
       "      <td>1</td>\n",
       "      <td>1</td>\n",
       "      <td>female</td>\n",
       "      <td>38.0</td>\n",
       "      <td>1</td>\n",
       "      <td>0</td>\n",
       "      <td>71.2833</td>\n",
       "      <td>C</td>\n",
       "    </tr>\n",
       "    <tr>\n",
       "      <th>3</th>\n",
       "      <td>1</td>\n",
       "      <td>3</td>\n",
       "      <td>female</td>\n",
       "      <td>26.0</td>\n",
       "      <td>0</td>\n",
       "      <td>0</td>\n",
       "      <td>7.9250</td>\n",
       "      <td>S</td>\n",
       "    </tr>\n",
       "    <tr>\n",
       "      <th>4</th>\n",
       "      <td>1</td>\n",
       "      <td>1</td>\n",
       "      <td>female</td>\n",
       "      <td>35.0</td>\n",
       "      <td>1</td>\n",
       "      <td>0</td>\n",
       "      <td>53.1000</td>\n",
       "      <td>S</td>\n",
       "    </tr>\n",
       "    <tr>\n",
       "      <th>5</th>\n",
       "      <td>0</td>\n",
       "      <td>3</td>\n",
       "      <td>male</td>\n",
       "      <td>35.0</td>\n",
       "      <td>0</td>\n",
       "      <td>0</td>\n",
       "      <td>8.0500</td>\n",
       "      <td>S</td>\n",
       "    </tr>\n",
       "  </tbody>\n",
       "</table>\n",
       "</div>"
      ],
      "text/plain": [
       "              Sobreviveu?  Classe    Sexo  Idade  Irmãos/Cônjuge  \\\n",
       "IdPassageiro                                                       \n",
       "1                       0       3    male   22.0               1   \n",
       "2                       1       1  female   38.0               1   \n",
       "3                       1       3  female   26.0               0   \n",
       "4                       1       1  female   35.0               1   \n",
       "5                       0       3    male   35.0               0   \n",
       "\n",
       "              Pais/Crianças   Tarifa Embarque  \n",
       "IdPassageiro                                   \n",
       "1                         0   7.2500        S  \n",
       "2                         0  71.2833        C  \n",
       "3                         0   7.9250        S  \n",
       "4                         0  53.1000        S  \n",
       "5                         0   8.0500        S  "
      ]
     },
     "execution_count": 3,
     "metadata": {},
     "output_type": "execute_result"
    }
   ],
   "source": [
    "\"\"\"Faça a leitura do arquivo salvando seu conteúdo na variável titanic e depois visualize suas 5 primeiras linhas\"\"\"\n",
    "titanic = pd.read_csv('titanic_data.csv')\n",
    "\n",
    "\"\"\"Renomeie as colunas do DataFrame para facilitar o entendimento\"\"\"\n",
    "titanic.columns = ['IdPassageiro','Sobreviveu?','Classe','Nome','Sexo','Idade','Irmãos/Cônjuge','Pais/Crianças','Bilhete','Tarifa','Cabine','Embarque']\n",
    "\n",
    "\"\"\" Tornar a coluna IdPassageiro índice do DataFrame\"\"\"\n",
    "titanic = titanic.set_index('IdPassageiro')\n",
    "\n",
    "\"\"\"Remova as colunas Nome, Bilhete e Cabine do DataFrame\"\"\"\n",
    "titanic.drop(['Nome','Bilhete','Cabine'], axis=1, inplace = True)\n",
    "\n",
    "titanic.head(5)"
   ]
  },
  {
   "cell_type": "markdown",
   "metadata": {},
   "source": [
    "### Missing Values"
   ]
  },
  {
   "cell_type": "code",
   "execution_count": 4,
   "metadata": {
    "scrolled": false
   },
   "outputs": [
    {
     "data": {
      "text/plain": [
       "Sobreviveu?         0\n",
       "Classe              0\n",
       "Sexo                0\n",
       "Idade             177\n",
       "Irmãos/Cônjuge      0\n",
       "Pais/Crianças       0\n",
       "Tarifa              0\n",
       "Embarque            2\n",
       "dtype: int64"
      ]
     },
     "execution_count": 4,
     "metadata": {},
     "output_type": "execute_result"
    }
   ],
   "source": [
    "\"\"\" Verificar se existem valores nulos.\"\"\"\n",
    "\n",
    "titanic.isna().sum()"
   ]
  },
  {
   "cell_type": "markdown",
   "metadata": {
    "deletable": false,
    "nbgrader": {
     "checksum": "7394abfef286a14f0028e27029cdddc7",
     "grade": false,
     "grade_id": "cell-6f19b61b28f97b3d",
     "locked": true,
     "schema_version": 1,
     "solution": false
    }
   },
   "source": [
    "Observe que, dentre os 891 registros do DataFrame, a coluna *Idade* tem 177 valores nulos e a coluna *Embarque* possui 2 valores nulos. No caso do Titanic, pode ser que a idade de certos passageiros fosse desconhecida ou não tenha sido recuperada.\n",
    "\n",
    "Dados faltantes ou incorretos acontecem com bastante frequência, e é nossa tarefa tratá-los da forma correta. \n",
    "Para preencher valores faltantes podemos utilizar diversos métodos, como:\n",
    "<ul>\n",
    "    <li> Remoção das linhas que possuem algum valor faltante</li> \n",
    "    <li> Subistituição do atributo faltante pela média/mediana/moda dos atributos </li>\n",
    "</ul>\n",
    "\n",
    "Neste caso substituíremos os valores faltantes da coluna **Idade** pela **média** das idades dos passageiros. Na coluna **Embarque**, por sua vez, não faz sentido calcular a média/mediana de dados categóricos. Por isso, iremos substituir os valores pela **moda** (valor mais frequente)."
   ]
  },
  {
   "cell_type": "code",
   "execution_count": 5,
   "metadata": {},
   "outputs": [
    {
     "data": {
      "text/html": [
       "<div>\n",
       "<style scoped>\n",
       "    .dataframe tbody tr th:only-of-type {\n",
       "        vertical-align: middle;\n",
       "    }\n",
       "\n",
       "    .dataframe tbody tr th {\n",
       "        vertical-align: top;\n",
       "    }\n",
       "\n",
       "    .dataframe thead th {\n",
       "        text-align: right;\n",
       "    }\n",
       "</style>\n",
       "<table border=\"1\" class=\"dataframe\">\n",
       "  <thead>\n",
       "    <tr style=\"text-align: right;\">\n",
       "      <th></th>\n",
       "      <th>Sobreviveu?</th>\n",
       "      <th>Classe</th>\n",
       "      <th>Idade</th>\n",
       "      <th>Irmãos/Cônjuge</th>\n",
       "      <th>Pais/Crianças</th>\n",
       "      <th>Tarifa</th>\n",
       "    </tr>\n",
       "  </thead>\n",
       "  <tbody>\n",
       "    <tr>\n",
       "      <th>count</th>\n",
       "      <td>891.000000</td>\n",
       "      <td>891.000000</td>\n",
       "      <td>714.000000</td>\n",
       "      <td>891.000000</td>\n",
       "      <td>891.000000</td>\n",
       "      <td>891.000000</td>\n",
       "    </tr>\n",
       "    <tr>\n",
       "      <th>mean</th>\n",
       "      <td>0.383838</td>\n",
       "      <td>2.308642</td>\n",
       "      <td>29.699118</td>\n",
       "      <td>0.523008</td>\n",
       "      <td>0.381594</td>\n",
       "      <td>32.204208</td>\n",
       "    </tr>\n",
       "    <tr>\n",
       "      <th>std</th>\n",
       "      <td>0.486592</td>\n",
       "      <td>0.836071</td>\n",
       "      <td>14.526497</td>\n",
       "      <td>1.102743</td>\n",
       "      <td>0.806057</td>\n",
       "      <td>49.693429</td>\n",
       "    </tr>\n",
       "    <tr>\n",
       "      <th>min</th>\n",
       "      <td>0.000000</td>\n",
       "      <td>1.000000</td>\n",
       "      <td>0.420000</td>\n",
       "      <td>0.000000</td>\n",
       "      <td>0.000000</td>\n",
       "      <td>0.000000</td>\n",
       "    </tr>\n",
       "    <tr>\n",
       "      <th>25%</th>\n",
       "      <td>0.000000</td>\n",
       "      <td>2.000000</td>\n",
       "      <td>20.125000</td>\n",
       "      <td>0.000000</td>\n",
       "      <td>0.000000</td>\n",
       "      <td>7.910400</td>\n",
       "    </tr>\n",
       "    <tr>\n",
       "      <th>50%</th>\n",
       "      <td>0.000000</td>\n",
       "      <td>3.000000</td>\n",
       "      <td>28.000000</td>\n",
       "      <td>0.000000</td>\n",
       "      <td>0.000000</td>\n",
       "      <td>14.454200</td>\n",
       "    </tr>\n",
       "    <tr>\n",
       "      <th>75%</th>\n",
       "      <td>1.000000</td>\n",
       "      <td>3.000000</td>\n",
       "      <td>38.000000</td>\n",
       "      <td>1.000000</td>\n",
       "      <td>0.000000</td>\n",
       "      <td>31.000000</td>\n",
       "    </tr>\n",
       "    <tr>\n",
       "      <th>max</th>\n",
       "      <td>1.000000</td>\n",
       "      <td>3.000000</td>\n",
       "      <td>80.000000</td>\n",
       "      <td>8.000000</td>\n",
       "      <td>6.000000</td>\n",
       "      <td>512.329200</td>\n",
       "    </tr>\n",
       "  </tbody>\n",
       "</table>\n",
       "</div>"
      ],
      "text/plain": [
       "       Sobreviveu?      Classe       Idade  Irmãos/Cônjuge  Pais/Crianças  \\\n",
       "count   891.000000  891.000000  714.000000      891.000000     891.000000   \n",
       "mean      0.383838    2.308642   29.699118        0.523008       0.381594   \n",
       "std       0.486592    0.836071   14.526497        1.102743       0.806057   \n",
       "min       0.000000    1.000000    0.420000        0.000000       0.000000   \n",
       "25%       0.000000    2.000000   20.125000        0.000000       0.000000   \n",
       "50%       0.000000    3.000000   28.000000        0.000000       0.000000   \n",
       "75%       1.000000    3.000000   38.000000        1.000000       0.000000   \n",
       "max       1.000000    3.000000   80.000000        8.000000       6.000000   \n",
       "\n",
       "           Tarifa  \n",
       "count  891.000000  \n",
       "mean    32.204208  \n",
       "std     49.693429  \n",
       "min      0.000000  \n",
       "25%      7.910400  \n",
       "50%     14.454200  \n",
       "75%     31.000000  \n",
       "max    512.329200  "
      ]
     },
     "execution_count": 5,
     "metadata": {},
     "output_type": "execute_result"
    }
   ],
   "source": [
    "\"\"\"Verificar as estatísticas do DataFrame.\"\"\"\n",
    "\n",
    "titanic.describe()"
   ]
  },
  {
   "cell_type": "code",
   "execution_count": 6,
   "metadata": {
    "scrolled": false
   },
   "outputs": [
    {
     "data": {
      "text/plain": [
       "Sobreviveu?       0\n",
       "Classe            0\n",
       "Sexo              0\n",
       "Idade             0\n",
       "Irmãos/Cônjuge    0\n",
       "Pais/Crianças     0\n",
       "Tarifa            0\n",
       "Embarque          2\n",
       "dtype: int64"
      ]
     },
     "execution_count": 6,
     "metadata": {},
     "output_type": "execute_result"
    }
   ],
   "source": [
    "\"\"\"Substituir os valores nulos de Idade pela média da coluna.\"\"\"\n",
    "\n",
    "titanic['Idade'].fillna(titanic['Idade'].mean(), inplace = True)\n",
    "titanic.isna().sum()"
   ]
  },
  {
   "cell_type": "code",
   "execution_count": 7,
   "metadata": {
    "scrolled": true
   },
   "outputs": [
    {
     "name": "stdout",
     "output_type": "stream",
     "text": [
      "Moda:  S\n"
     ]
    },
    {
     "data": {
      "text/plain": [
       "Sobreviveu?       0\n",
       "Classe            0\n",
       "Sexo              0\n",
       "Idade             0\n",
       "Irmãos/Cônjuge    0\n",
       "Pais/Crianças     0\n",
       "Tarifa            0\n",
       "Embarque          0\n",
       "dtype: int64"
      ]
     },
     "execution_count": 7,
     "metadata": {},
     "output_type": "execute_result"
    }
   ],
   "source": [
    "\"\"\"Substituir os valores nulos de Embarque pela moda da coluna.\"\"\"\n",
    "print('Moda: ', titanic['Embarque'].dropna().mode()[0])\n",
    "titanic['Embarque'].fillna(titanic['Embarque'].mode()[0], inplace = True)\n",
    "titanic.isna().sum()"
   ]
  },
  {
   "cell_type": "markdown",
   "metadata": {},
   "source": [
    "### Discretização de Dados Numéricos"
   ]
  },
  {
   "cell_type": "markdown",
   "metadata": {},
   "source": [
    "A discretização de dados pode ajudar bastante quando temos dados numéricos e queremos quebrar os valores em intervalos que representam diferentes categorias. Esse processo pode ser útil em situações onde os dados da coluna não tem correlação com a coluna target. Dessa forma, discretizar os dados pode trazer evidências que não eram tão claras anteriormente.\n",
    "\n",
    "Se verificarmos a correlação da coluna **Idade** com a coluna **Sobreviveu?**, por exemplo, vemos que praticamente não há correlação. "
   ]
  },
  {
   "cell_type": "code",
   "execution_count": 8,
   "metadata": {},
   "outputs": [
    {
     "data": {
      "text/plain": [
       "-0.06980851528714314"
      ]
     },
     "execution_count": 8,
     "metadata": {},
     "output_type": "execute_result"
    }
   ],
   "source": [
    "\"\"\"Correlação entre Idade e Sobrevivência.\"\"\"\n",
    "\n",
    "titanic['Idade'].corr(titanic['Sobreviveu?'])"
   ]
  },
  {
   "cell_type": "code",
   "execution_count": 9,
   "metadata": {},
   "outputs": [
    {
     "data": {
      "text/plain": [
       "<seaborn.axisgrid.FacetGrid at 0x7f037a293470>"
      ]
     },
     "execution_count": 9,
     "metadata": {},
     "output_type": "execute_result"
    },
    {
     "data": {
      "image/png": "[encoded data removed]",
      "text/plain": [
       "<Figure size 432x216 with 2 Axes>"
      ]
     },
     "metadata": {},
     "output_type": "display_data"
    }
   ],
   "source": [
    "\"\"\"Relação entre Idade e Sobrevivência.\"\"\"\n",
    "\n",
    "import seaborn as sns\n",
    "g = sns.FacetGrid(titanic, col='Sobreviveu?')\n",
    "g.map(plt.hist, 'Idade', bins=10)"
   ]
  },
  {
   "cell_type": "markdown",
   "metadata": {},
   "source": [
    "Agora, vamos discretizar a coluna **Idade** em 4 categorias: Criança, Jovem, Adulto, Idoso. Depois, vamos analisar a distribuição de sobreviventes em cada categoria."
   ]
  },
  {
   "cell_type": "code",
   "execution_count": 11,
   "metadata": {},
   "outputs": [
    {
     "data": {
      "text/html": [
       "<div>\n",
       "<style scoped>\n",
       "    .dataframe tbody tr th:only-of-type {\n",
       "        vertical-align: middle;\n",
       "    }\n",
       "\n",
       "    .dataframe tbody tr th {\n",
       "        vertical-align: top;\n",
       "    }\n",
       "\n",
       "    .dataframe thead th {\n",
       "        text-align: right;\n",
       "    }\n",
       "</style>\n",
       "<table border=\"1\" class=\"dataframe\">\n",
       "  <thead>\n",
       "    <tr style=\"text-align: right;\">\n",
       "      <th></th>\n",
       "      <th>Sobreviveu?</th>\n",
       "      <th>Classe</th>\n",
       "      <th>Sexo</th>\n",
       "      <th>Idade</th>\n",
       "      <th>Irmãos/Cônjuge</th>\n",
       "      <th>Pais/Crianças</th>\n",
       "      <th>Tarifa</th>\n",
       "      <th>Embarque</th>\n",
       "      <th>IdadeDisc</th>\n",
       "    </tr>\n",
       "    <tr>\n",
       "      <th>IdPassageiro</th>\n",
       "      <th></th>\n",
       "      <th></th>\n",
       "      <th></th>\n",
       "      <th></th>\n",
       "      <th></th>\n",
       "      <th></th>\n",
       "      <th></th>\n",
       "      <th></th>\n",
       "      <th></th>\n",
       "    </tr>\n",
       "  </thead>\n",
       "  <tbody>\n",
       "    <tr>\n",
       "      <th>1</th>\n",
       "      <td>0</td>\n",
       "      <td>3</td>\n",
       "      <td>male</td>\n",
       "      <td>22.0</td>\n",
       "      <td>1</td>\n",
       "      <td>0</td>\n",
       "      <td>7.2500</td>\n",
       "      <td>S</td>\n",
       "      <td>Jovem</td>\n",
       "    </tr>\n",
       "    <tr>\n",
       "      <th>2</th>\n",
       "      <td>1</td>\n",
       "      <td>1</td>\n",
       "      <td>female</td>\n",
       "      <td>38.0</td>\n",
       "      <td>1</td>\n",
       "      <td>0</td>\n",
       "      <td>71.2833</td>\n",
       "      <td>C</td>\n",
       "      <td>Adulto</td>\n",
       "    </tr>\n",
       "    <tr>\n",
       "      <th>3</th>\n",
       "      <td>1</td>\n",
       "      <td>3</td>\n",
       "      <td>female</td>\n",
       "      <td>26.0</td>\n",
       "      <td>0</td>\n",
       "      <td>0</td>\n",
       "      <td>7.9250</td>\n",
       "      <td>S</td>\n",
       "      <td>Adulto</td>\n",
       "    </tr>\n",
       "    <tr>\n",
       "      <th>4</th>\n",
       "      <td>1</td>\n",
       "      <td>1</td>\n",
       "      <td>female</td>\n",
       "      <td>35.0</td>\n",
       "      <td>1</td>\n",
       "      <td>0</td>\n",
       "      <td>53.1000</td>\n",
       "      <td>S</td>\n",
       "      <td>Adulto</td>\n",
       "    </tr>\n",
       "    <tr>\n",
       "      <th>5</th>\n",
       "      <td>0</td>\n",
       "      <td>3</td>\n",
       "      <td>male</td>\n",
       "      <td>35.0</td>\n",
       "      <td>0</td>\n",
       "      <td>0</td>\n",
       "      <td>8.0500</td>\n",
       "      <td>S</td>\n",
       "      <td>Adulto</td>\n",
       "    </tr>\n",
       "  </tbody>\n",
       "</table>\n",
       "</div>"
      ],
      "text/plain": [
       "              Sobreviveu?  Classe    Sexo  Idade  Irmãos/Cônjuge  \\\n",
       "IdPassageiro                                                       \n",
       "1                       0       3    male   22.0               1   \n",
       "2                       1       1  female   38.0               1   \n",
       "3                       1       3  female   26.0               0   \n",
       "4                       1       1  female   35.0               1   \n",
       "5                       0       3    male   35.0               0   \n",
       "\n",
       "              Pais/Crianças   Tarifa Embarque IdadeDisc  \n",
       "IdPassageiro                                             \n",
       "1                         0   7.2500        S     Jovem  \n",
       "2                         0  71.2833        C    Adulto  \n",
       "3                         0   7.9250        S    Adulto  \n",
       "4                         0  53.1000        S    Adulto  \n",
       "5                         0   8.0500        S    Adulto  "
      ]
     },
     "execution_count": 11,
     "metadata": {},
     "output_type": "execute_result"
    }
   ],
   "source": [
    "\"\"\" Criar uma nova coluna 'IdadeDisc' no DataFrame com os valores normalizados da coluna Idade. Regras:\n",
    "    - Para pessoas entre 0 e 15 anos, atribuir o valor 'Criança'.\n",
    "    - Para pessoas entre 15 e 25 anos, atribuir o valor 'Jovem'.\n",
    "    - Para pessoas entre 25 e 60 anos, atribuir o valor 'Jovem'.\n",
    "    - Para pessoas com mais de 60 anos, atribuir o valor 'Idoso'. \"\"\"\n",
    "\n",
    "titanic['IdadeDisc'] = pd.cut(titanic['Idade'], bins = [0,15, 25, 60, 80], \n",
    "                              labels=['Criança', 'Jovem', 'Adulto', 'Idoso'])\n",
    "titanic.head()"
   ]
  },
  {
   "cell_type": "code",
   "execution_count": 12,
   "metadata": {},
   "outputs": [
    {
     "data": {
      "image/png": "[encoded data removed]",
      "text/plain": [
       "<Figure size 432x288 with 1 Axes>"
      ]
     },
     "metadata": {},
     "output_type": "display_data"
    }
   ],
   "source": [
    "\"\"\"Relação entre IdadeDisc e Sobrevivência.\"\"\"\n",
    "\n",
    "survived = titanic[titanic['Sobreviveu?'] == 1].groupby('IdadeDisc')['Sobreviveu?'].count().values\n",
    "not_survived = titanic[titanic['Sobreviveu?'] == 0].groupby('IdadeDisc')['Sobreviveu?'].count().values\n",
    "index = titanic[titanic['Sobreviveu?'] == 1].groupby('IdadeDisc')['Sobreviveu?'].count().index.values\n",
    "\n",
    "df = pd.DataFrame({'Sobreviveu': survived,\n",
    "                   'Não Sobreviveu': not_survived}, index=index)\n",
    "ax = df.plot.bar(rot=0)"
   ]
  },
  {
   "cell_type": "markdown",
   "metadata": {},
   "source": [
    "Outra coluna que pode ser discretizada é a **Tarifa**. Essa coluna poderia ser categorizada em três grupos de acordo com a faixa de preço: *Barato*, *Médio* e *Caro*. Neste caso, podemos simplesmente distribuir os preços de acordo com o quantil, de forma que cada grupo contenha aproximadamente a mesma quantidade de registros ao final. \n",
    "\n",
    "Para isso, podemos utilizar a função **qcut()** do Pandas."
   ]
  },
  {
   "cell_type": "code",
   "execution_count": 13,
   "metadata": {},
   "outputs": [
    {
     "data": {
      "text/plain": [
       "0.2573065223849625"
      ]
     },
     "execution_count": 13,
     "metadata": {},
     "output_type": "execute_result"
    }
   ],
   "source": [
    "\"\"\"Correlação entre Tarifa e Sobrevivência.\"\"\"\n",
    "titanic['Tarifa'].corr(titanic['Sobreviveu?'])"
   ]
  },
  {
   "cell_type": "code",
   "execution_count": 14,
   "metadata": {},
   "outputs": [
    {
     "data": {
      "text/plain": [
       "array(['(-0.001, 8.662]', '(26.0, 512.329]', '(8.662, 26.0]'],\n",
       "      dtype=object)"
      ]
     },
     "execution_count": 14,
     "metadata": {},
     "output_type": "execute_result"
    }
   ],
   "source": [
    "\"\"\"Gerar intervalos que deixam a distribuição mais equilibrada.\"\"\"\n",
    "\n",
    "intervals = pd.qcut(titanic['Tarifa'], 3).astype(str).unique()\n",
    "intervals"
   ]
  },
  {
   "cell_type": "code",
   "execution_count": 15,
   "metadata": {
    "scrolled": false
   },
   "outputs": [
    {
     "data": {
      "text/html": [
       "<div>\n",
       "<style scoped>\n",
       "    .dataframe tbody tr th:only-of-type {\n",
       "        vertical-align: middle;\n",
       "    }\n",
       "\n",
       "    .dataframe tbody tr th {\n",
       "        vertical-align: top;\n",
       "    }\n",
       "\n",
       "    .dataframe thead th {\n",
       "        text-align: right;\n",
       "    }\n",
       "</style>\n",
       "<table border=\"1\" class=\"dataframe\">\n",
       "  <thead>\n",
       "    <tr style=\"text-align: right;\">\n",
       "      <th></th>\n",
       "      <th>Sobreviveu?</th>\n",
       "      <th>Classe</th>\n",
       "      <th>Sexo</th>\n",
       "      <th>Idade</th>\n",
       "      <th>Irmãos/Cônjuge</th>\n",
       "      <th>Pais/Crianças</th>\n",
       "      <th>Tarifa</th>\n",
       "      <th>Embarque</th>\n",
       "      <th>IdadeDisc</th>\n",
       "      <th>Tipo_Tarifa</th>\n",
       "    </tr>\n",
       "    <tr>\n",
       "      <th>IdPassageiro</th>\n",
       "      <th></th>\n",
       "      <th></th>\n",
       "      <th></th>\n",
       "      <th></th>\n",
       "      <th></th>\n",
       "      <th></th>\n",
       "      <th></th>\n",
       "      <th></th>\n",
       "      <th></th>\n",
       "      <th></th>\n",
       "    </tr>\n",
       "  </thead>\n",
       "  <tbody>\n",
       "    <tr>\n",
       "      <th>1</th>\n",
       "      <td>0</td>\n",
       "      <td>3</td>\n",
       "      <td>male</td>\n",
       "      <td>22.0</td>\n",
       "      <td>1</td>\n",
       "      <td>0</td>\n",
       "      <td>7.2500</td>\n",
       "      <td>S</td>\n",
       "      <td>Jovem</td>\n",
       "      <td>Barato</td>\n",
       "    </tr>\n",
       "    <tr>\n",
       "      <th>2</th>\n",
       "      <td>1</td>\n",
       "      <td>1</td>\n",
       "      <td>female</td>\n",
       "      <td>38.0</td>\n",
       "      <td>1</td>\n",
       "      <td>0</td>\n",
       "      <td>71.2833</td>\n",
       "      <td>C</td>\n",
       "      <td>Adulto</td>\n",
       "      <td>Medio</td>\n",
       "    </tr>\n",
       "    <tr>\n",
       "      <th>3</th>\n",
       "      <td>1</td>\n",
       "      <td>3</td>\n",
       "      <td>female</td>\n",
       "      <td>26.0</td>\n",
       "      <td>0</td>\n",
       "      <td>0</td>\n",
       "      <td>7.9250</td>\n",
       "      <td>S</td>\n",
       "      <td>Adulto</td>\n",
       "      <td>Barato</td>\n",
       "    </tr>\n",
       "    <tr>\n",
       "      <th>4</th>\n",
       "      <td>1</td>\n",
       "      <td>1</td>\n",
       "      <td>female</td>\n",
       "      <td>35.0</td>\n",
       "      <td>1</td>\n",
       "      <td>0</td>\n",
       "      <td>53.1000</td>\n",
       "      <td>S</td>\n",
       "      <td>Adulto</td>\n",
       "      <td>Medio</td>\n",
       "    </tr>\n",
       "    <tr>\n",
       "      <th>5</th>\n",
       "      <td>0</td>\n",
       "      <td>3</td>\n",
       "      <td>male</td>\n",
       "      <td>35.0</td>\n",
       "      <td>0</td>\n",
       "      <td>0</td>\n",
       "      <td>8.0500</td>\n",
       "      <td>S</td>\n",
       "      <td>Adulto</td>\n",
       "      <td>Barato</td>\n",
       "    </tr>\n",
       "  </tbody>\n",
       "</table>\n",
       "</div>"
      ],
      "text/plain": [
       "              Sobreviveu?  Classe    Sexo  Idade  Irmãos/Cônjuge  \\\n",
       "IdPassageiro                                                       \n",
       "1                       0       3    male   22.0               1   \n",
       "2                       1       1  female   38.0               1   \n",
       "3                       1       3  female   26.0               0   \n",
       "4                       1       1  female   35.0               1   \n",
       "5                       0       3    male   35.0               0   \n",
       "\n",
       "              Pais/Crianças   Tarifa Embarque IdadeDisc Tipo_Tarifa  \n",
       "IdPassageiro                                                         \n",
       "1                         0   7.2500        S     Jovem      Barato  \n",
       "2                         0  71.2833        C    Adulto       Medio  \n",
       "3                         0   7.9250        S    Adulto      Barato  \n",
       "4                         0  53.1000        S    Adulto       Medio  \n",
       "5                         0   8.0500        S    Adulto      Barato  "
      ]
     },
     "execution_count": 15,
     "metadata": {},
     "output_type": "execute_result"
    }
   ],
   "source": [
    "titanic['Tipo_Tarifa'] = pd.qcut(titanic['Tarifa'], 3).astype(str).map( {intervals[0]: 'Barato', \n",
    "                                                                         intervals[1]: 'Medio', \n",
    "                                                                         intervals[2]: 'Caro'} ).astype(str)\n",
    "titanic.head()"
   ]
  },
  {
   "cell_type": "code",
   "execution_count": 16,
   "metadata": {},
   "outputs": [
    {
     "data": {
      "image/png": "[encoded data removed]",
      "text/plain": [
       "<Figure size 432x288 with 1 Axes>"
      ]
     },
     "metadata": {},
     "output_type": "display_data"
    }
   ],
   "source": [
    "\"\"\"Relação entre Tipo da Tarifa e Sobrevivência.\"\"\"\n",
    "\n",
    "survived = titanic[titanic['Sobreviveu?'] == 1].groupby('Tipo_Tarifa')['Sobreviveu?'].count().values\n",
    "not_survived = titanic[titanic['Sobreviveu?'] == 0].groupby('Tipo_Tarifa')['Sobreviveu?'].count().values\n",
    "index = titanic[titanic['Sobreviveu?'] == 1].groupby('Tipo_Tarifa')['Sobreviveu?'].count().index.values\n",
    "\n",
    "df = pd.DataFrame({'Sobreviveu': survived,\n",
    "                   'Não Sobreviveu': not_survived}, index=index)\n",
    "ax = df.plot.bar(rot=0)"
   ]
  },
  {
   "cell_type": "markdown",
   "metadata": {},
   "source": [
    "### Transformação de Dados Categóricos para Numéricos"
   ]
  },
  {
   "cell_type": "markdown",
   "metadata": {},
   "source": [
    "Em muitos casos, o modelo de Machine Learning que usamos para nossa tarefa não aceita dados que não sejam numéricos. Por isso, em vez de ignorar nossos dados categóricos, podemos transformar os dados categóricos em numéricos. Alguns métodos utilizados são:\n",
    "* **One-hot Encoding** - Transformar cada categoria em uma coluna (*dummy variables*) que contém 1 ou 0, indicando se o registro pertence ou não àquela categoria.\n",
    "* **Mapeamento** - Mapear cada categoria para um valor inteiro (0,1,2,3...). Quando o número de categorias é 2 apenas, o método geralmente é chamado de **Binarização**.\n",
    "\n",
    "Cada um dos métodos tem suas peculiaridades. O **One-hot Encoding** aumenta o número de dimensões no espaço de features, o que pode ser muito ruim para casos onde o número de categorias é grande. Por outro lado, o **Mapeamento** pode trazer ruído para o modelo, já que os números não representam números de verdade (Operações como média não fazem sentido, por exemplo)."
   ]
  },
  {
   "cell_type": "markdown",
   "metadata": {},
   "source": [
    "No caso do Titanic, vamos transformar as colunas categóricas ('Sexo', 'Embarque', 'IdadeDisc' e 'Tipo_Tarifa') em dados numéricos utilizando **Mapeamento** para 'Sexo' e 'Embarque' e **One-hot Encoding** para 'IdadeDisc' e 'Tipo_Tarifa'. "
   ]
  },
  {
   "cell_type": "code",
   "execution_count": 17,
   "metadata": {},
   "outputs": [
    {
     "data": {
      "text/html": [
       "<div>\n",
       "<style scoped>\n",
       "    .dataframe tbody tr th:only-of-type {\n",
       "        vertical-align: middle;\n",
       "    }\n",
       "\n",
       "    .dataframe tbody tr th {\n",
       "        vertical-align: top;\n",
       "    }\n",
       "\n",
       "    .dataframe thead th {\n",
       "        text-align: right;\n",
       "    }\n",
       "</style>\n",
       "<table border=\"1\" class=\"dataframe\">\n",
       "  <thead>\n",
       "    <tr style=\"text-align: right;\">\n",
       "      <th></th>\n",
       "      <th>Sobreviveu?</th>\n",
       "      <th>Classe</th>\n",
       "      <th>Sexo</th>\n",
       "      <th>Idade</th>\n",
       "      <th>Irmãos/Cônjuge</th>\n",
       "      <th>Pais/Crianças</th>\n",
       "      <th>Tarifa</th>\n",
       "      <th>Embarque</th>\n",
       "      <th>IdadeDisc</th>\n",
       "      <th>Tipo_Tarifa</th>\n",
       "    </tr>\n",
       "    <tr>\n",
       "      <th>IdPassageiro</th>\n",
       "      <th></th>\n",
       "      <th></th>\n",
       "      <th></th>\n",
       "      <th></th>\n",
       "      <th></th>\n",
       "      <th></th>\n",
       "      <th></th>\n",
       "      <th></th>\n",
       "      <th></th>\n",
       "      <th></th>\n",
       "    </tr>\n",
       "  </thead>\n",
       "  <tbody>\n",
       "    <tr>\n",
       "      <th>1</th>\n",
       "      <td>0</td>\n",
       "      <td>3</td>\n",
       "      <td>1</td>\n",
       "      <td>22.0</td>\n",
       "      <td>1</td>\n",
       "      <td>0</td>\n",
       "      <td>7.2500</td>\n",
       "      <td>0</td>\n",
       "      <td>Jovem</td>\n",
       "      <td>Barato</td>\n",
       "    </tr>\n",
       "    <tr>\n",
       "      <th>2</th>\n",
       "      <td>1</td>\n",
       "      <td>1</td>\n",
       "      <td>0</td>\n",
       "      <td>38.0</td>\n",
       "      <td>1</td>\n",
       "      <td>0</td>\n",
       "      <td>71.2833</td>\n",
       "      <td>1</td>\n",
       "      <td>Adulto</td>\n",
       "      <td>Medio</td>\n",
       "    </tr>\n",
       "    <tr>\n",
       "      <th>3</th>\n",
       "      <td>1</td>\n",
       "      <td>3</td>\n",
       "      <td>0</td>\n",
       "      <td>26.0</td>\n",
       "      <td>0</td>\n",
       "      <td>0</td>\n",
       "      <td>7.9250</td>\n",
       "      <td>0</td>\n",
       "      <td>Adulto</td>\n",
       "      <td>Barato</td>\n",
       "    </tr>\n",
       "    <tr>\n",
       "      <th>4</th>\n",
       "      <td>1</td>\n",
       "      <td>1</td>\n",
       "      <td>0</td>\n",
       "      <td>35.0</td>\n",
       "      <td>1</td>\n",
       "      <td>0</td>\n",
       "      <td>53.1000</td>\n",
       "      <td>0</td>\n",
       "      <td>Adulto</td>\n",
       "      <td>Medio</td>\n",
       "    </tr>\n",
       "    <tr>\n",
       "      <th>5</th>\n",
       "      <td>0</td>\n",
       "      <td>3</td>\n",
       "      <td>1</td>\n",
       "      <td>35.0</td>\n",
       "      <td>0</td>\n",
       "      <td>0</td>\n",
       "      <td>8.0500</td>\n",
       "      <td>0</td>\n",
       "      <td>Adulto</td>\n",
       "      <td>Barato</td>\n",
       "    </tr>\n",
       "  </tbody>\n",
       "</table>\n",
       "</div>"
      ],
      "text/plain": [
       "              Sobreviveu?  Classe  Sexo  Idade  Irmãos/Cônjuge  Pais/Crianças  \\\n",
       "IdPassageiro                                                                    \n",
       "1                       0       3     1   22.0               1              0   \n",
       "2                       1       1     0   38.0               1              0   \n",
       "3                       1       3     0   26.0               0              0   \n",
       "4                       1       1     0   35.0               1              0   \n",
       "5                       0       3     1   35.0               0              0   \n",
       "\n",
       "               Tarifa  Embarque IdadeDisc Tipo_Tarifa  \n",
       "IdPassageiro                                           \n",
       "1              7.2500         0     Jovem      Barato  \n",
       "2             71.2833         1    Adulto       Medio  \n",
       "3              7.9250         0    Adulto      Barato  \n",
       "4             53.1000         0    Adulto       Medio  \n",
       "5              8.0500         0    Adulto      Barato  "
      ]
     },
     "execution_count": 17,
     "metadata": {},
     "output_type": "execute_result"
    }
   ],
   "source": [
    "\"\"\"Mapeamento para valores numéricos nas colunas 'Sexo' e 'Embarque'.\"\"\"\n",
    "titanic['Sexo'] = titanic['Sexo'].map( {'female': 0, 'male': 1} ).astype(int)\n",
    "titanic['Embarque'] = titanic['Embarque'].map( {'S': 0, 'C': 1, 'Q':2} ).astype(int)\n",
    "titanic.head()"
   ]
  },
  {
   "cell_type": "code",
   "execution_count": 18,
   "metadata": {},
   "outputs": [
    {
     "data": {
      "text/html": [
       "<div>\n",
       "<style scoped>\n",
       "    .dataframe tbody tr th:only-of-type {\n",
       "        vertical-align: middle;\n",
       "    }\n",
       "\n",
       "    .dataframe tbody tr th {\n",
       "        vertical-align: top;\n",
       "    }\n",
       "\n",
       "    .dataframe thead th {\n",
       "        text-align: right;\n",
       "    }\n",
       "</style>\n",
       "<table border=\"1\" class=\"dataframe\">\n",
       "  <thead>\n",
       "    <tr style=\"text-align: right;\">\n",
       "      <th></th>\n",
       "      <th>Sobreviveu?</th>\n",
       "      <th>Classe</th>\n",
       "      <th>Sexo</th>\n",
       "      <th>Idade</th>\n",
       "      <th>Irmãos/Cônjuge</th>\n",
       "      <th>Pais/Crianças</th>\n",
       "      <th>Tarifa</th>\n",
       "      <th>Embarque</th>\n",
       "      <th>Criança</th>\n",
       "      <th>Jovem</th>\n",
       "      <th>Adulto</th>\n",
       "      <th>Idoso</th>\n",
       "      <th>Barato</th>\n",
       "      <th>Caro</th>\n",
       "      <th>Medio</th>\n",
       "    </tr>\n",
       "    <tr>\n",
       "      <th>IdPassageiro</th>\n",
       "      <th></th>\n",
       "      <th></th>\n",
       "      <th></th>\n",
       "      <th></th>\n",
       "      <th></th>\n",
       "      <th></th>\n",
       "      <th></th>\n",
       "      <th></th>\n",
       "      <th></th>\n",
       "      <th></th>\n",
       "      <th></th>\n",
       "      <th></th>\n",
       "      <th></th>\n",
       "      <th></th>\n",
       "      <th></th>\n",
       "    </tr>\n",
       "  </thead>\n",
       "  <tbody>\n",
       "    <tr>\n",
       "      <th>1</th>\n",
       "      <td>0</td>\n",
       "      <td>3</td>\n",
       "      <td>1</td>\n",
       "      <td>22.0</td>\n",
       "      <td>1</td>\n",
       "      <td>0</td>\n",
       "      <td>7.2500</td>\n",
       "      <td>0</td>\n",
       "      <td>0</td>\n",
       "      <td>1</td>\n",
       "      <td>0</td>\n",
       "      <td>0</td>\n",
       "      <td>1</td>\n",
       "      <td>0</td>\n",
       "      <td>0</td>\n",
       "    </tr>\n",
       "    <tr>\n",
       "      <th>2</th>\n",
       "      <td>1</td>\n",
       "      <td>1</td>\n",
       "      <td>0</td>\n",
       "      <td>38.0</td>\n",
       "      <td>1</td>\n",
       "      <td>0</td>\n",
       "      <td>71.2833</td>\n",
       "      <td>1</td>\n",
       "      <td>0</td>\n",
       "      <td>0</td>\n",
       "      <td>1</td>\n",
       "      <td>0</td>\n",
       "      <td>0</td>\n",
       "      <td>0</td>\n",
       "      <td>1</td>\n",
       "    </tr>\n",
       "    <tr>\n",
       "      <th>3</th>\n",
       "      <td>1</td>\n",
       "      <td>3</td>\n",
       "      <td>0</td>\n",
       "      <td>26.0</td>\n",
       "      <td>0</td>\n",
       "      <td>0</td>\n",
       "      <td>7.9250</td>\n",
       "      <td>0</td>\n",
       "      <td>0</td>\n",
       "      <td>0</td>\n",
       "      <td>1</td>\n",
       "      <td>0</td>\n",
       "      <td>1</td>\n",
       "      <td>0</td>\n",
       "      <td>0</td>\n",
       "    </tr>\n",
       "    <tr>\n",
       "      <th>4</th>\n",
       "      <td>1</td>\n",
       "      <td>1</td>\n",
       "      <td>0</td>\n",
       "      <td>35.0</td>\n",
       "      <td>1</td>\n",
       "      <td>0</td>\n",
       "      <td>53.1000</td>\n",
       "      <td>0</td>\n",
       "      <td>0</td>\n",
       "      <td>0</td>\n",
       "      <td>1</td>\n",
       "      <td>0</td>\n",
       "      <td>0</td>\n",
       "      <td>0</td>\n",
       "      <td>1</td>\n",
       "    </tr>\n",
       "    <tr>\n",
       "      <th>5</th>\n",
       "      <td>0</td>\n",
       "      <td>3</td>\n",
       "      <td>1</td>\n",
       "      <td>35.0</td>\n",
       "      <td>0</td>\n",
       "      <td>0</td>\n",
       "      <td>8.0500</td>\n",
       "      <td>0</td>\n",
       "      <td>0</td>\n",
       "      <td>0</td>\n",
       "      <td>1</td>\n",
       "      <td>0</td>\n",
       "      <td>1</td>\n",
       "      <td>0</td>\n",
       "      <td>0</td>\n",
       "    </tr>\n",
       "  </tbody>\n",
       "</table>\n",
       "</div>"
      ],
      "text/plain": [
       "              Sobreviveu?  Classe  Sexo  Idade  Irmãos/Cônjuge  Pais/Crianças  \\\n",
       "IdPassageiro                                                                    \n",
       "1                       0       3     1   22.0               1              0   \n",
       "2                       1       1     0   38.0               1              0   \n",
       "3                       1       3     0   26.0               0              0   \n",
       "4                       1       1     0   35.0               1              0   \n",
       "5                       0       3     1   35.0               0              0   \n",
       "\n",
       "               Tarifa  Embarque  Criança  Jovem  Adulto  Idoso  Barato  Caro  \\\n",
       "IdPassageiro                                                                   \n",
       "1              7.2500         0        0      1       0      0       1     0   \n",
       "2             71.2833         1        0      0       1      0       0     0   \n",
       "3              7.9250         0        0      0       1      0       1     0   \n",
       "4             53.1000         0        0      0       1      0       0     0   \n",
       "5              8.0500         0        0      0       1      0       1     0   \n",
       "\n",
       "              Medio  \n",
       "IdPassageiro         \n",
       "1                 0  \n",
       "2                 1  \n",
       "3                 0  \n",
       "4                 1  \n",
       "5                 0  "
      ]
     },
     "execution_count": 18,
     "metadata": {},
     "output_type": "execute_result"
    }
   ],
   "source": [
    "\"\"\"One-hot Encoding para valores numéricos nas colunas 'IdadeDisc' e 'Tipo_Tarifa'.\"\"\"\n",
    "dummy = pd.get_dummies(titanic['IdadeDisc'])\n",
    "titanic = pd.concat([titanic, dummy], axis=1)\n",
    "\n",
    "dummy = pd.get_dummies(titanic['Tipo_Tarifa'])\n",
    "titanic = pd.concat([titanic, dummy], axis=1)\n",
    "\n",
    "titanic.drop(['IdadeDisc', 'Tipo_Tarifa'], axis=1, inplace=True)\n",
    "titanic.head()"
   ]
  },
  {
   "cell_type": "markdown",
   "metadata": {},
   "source": [
    "### Normalização Min-Max $[0,1]$ "
   ]
  },
  {
   "cell_type": "markdown",
   "metadata": {},
   "source": [
    "Antes de realizar as normalizações, vamos remover a coluna 'Sobreviveu?' do nosso DataFrame e salvá-la em uma variável."
   ]
  },
  {
   "cell_type": "code",
   "execution_count": 19,
   "metadata": {},
   "outputs": [
    {
     "data": {
      "text/plain": [
       "IdPassageiro\n",
       "1    0\n",
       "2    1\n",
       "3    1\n",
       "4    1\n",
       "5    0\n",
       "Name: Sobreviveu?, dtype: int64"
      ]
     },
     "execution_count": 19,
     "metadata": {},
     "output_type": "execute_result"
    }
   ],
   "source": [
    "target = titanic['Sobreviveu?']\n",
    "target.head()"
   ]
  },
  {
   "cell_type": "code",
   "execution_count": 20,
   "metadata": {},
   "outputs": [],
   "source": [
    "titanic.drop(['Sobreviveu?'], axis=1, inplace=True)"
   ]
  },
  {
   "cell_type": "markdown",
   "metadata": {
    "deletable": false,
    "editable": false,
    "nbgrader": {
     "checksum": "7394abfef286a14f0028e27029cdddc7",
     "grade": false,
     "grade_id": "cell-6f19b61b28f97b3d",
     "locked": true,
     "schema_version": 1,
     "solution": false
    }
   },
   "source": [
    "Podemos querer normalizar atributos para oberservá-los em um intervalo de valores mais bem controlado. Vamos então normalizar nosso DataSet no intervalo $[0,1]$ utilizando a função **MinMaxScaler()** da biblioteca sklearn, que aplicará a função **min-max**, que é dada pela **fórmula**:\n",
    "\n",
    "$$v' = \\frac{v-min_A}{max_A - min_A}(nmax_A - nmin_A) + nmin_A$$\n",
    "\n",
    "onde:\n",
    "* $[nmin_A, nmax_A]$ é o intervalo no qual você deseja normalizar seus dados (no nosso caso, $[0,1]$)\n",
    "* $min_A$ e $max_A$ são os atuais valores mínimo e máximo da coluna, respectivamente.\n",
    "\n",
    "Deve-se ressaltar que a função não é aplicada em dados categóricos, logo devemos \"cortar\" algumas colunas do DataSet para aplicarmos a função."
   ]
  },
  {
   "cell_type": "code",
   "execution_count": 21,
   "metadata": {},
   "outputs": [
    {
     "data": {
      "text/html": [
       "<div>\n",
       "<style scoped>\n",
       "    .dataframe tbody tr th:only-of-type {\n",
       "        vertical-align: middle;\n",
       "    }\n",
       "\n",
       "    .dataframe tbody tr th {\n",
       "        vertical-align: top;\n",
       "    }\n",
       "\n",
       "    .dataframe thead th {\n",
       "        text-align: right;\n",
       "    }\n",
       "</style>\n",
       "<table border=\"1\" class=\"dataframe\">\n",
       "  <thead>\n",
       "    <tr style=\"text-align: right;\">\n",
       "      <th></th>\n",
       "      <th>Classe</th>\n",
       "      <th>Sexo</th>\n",
       "      <th>Idade</th>\n",
       "      <th>Irmãos/Cônjuge</th>\n",
       "      <th>Pais/Crianças</th>\n",
       "      <th>Tarifa</th>\n",
       "      <th>Embarque</th>\n",
       "      <th>Criança</th>\n",
       "      <th>Jovem</th>\n",
       "      <th>Adulto</th>\n",
       "      <th>Idoso</th>\n",
       "      <th>Barato</th>\n",
       "      <th>Caro</th>\n",
       "      <th>Medio</th>\n",
       "    </tr>\n",
       "  </thead>\n",
       "  <tbody>\n",
       "    <tr>\n",
       "      <th>0</th>\n",
       "      <td>1.0</td>\n",
       "      <td>1.0</td>\n",
       "      <td>0.271174</td>\n",
       "      <td>0.125</td>\n",
       "      <td>0.0</td>\n",
       "      <td>0.014151</td>\n",
       "      <td>0.0</td>\n",
       "      <td>0.0</td>\n",
       "      <td>1.0</td>\n",
       "      <td>0.0</td>\n",
       "      <td>0.0</td>\n",
       "      <td>1.0</td>\n",
       "      <td>0.0</td>\n",
       "      <td>0.0</td>\n",
       "    </tr>\n",
       "    <tr>\n",
       "      <th>1</th>\n",
       "      <td>0.0</td>\n",
       "      <td>0.0</td>\n",
       "      <td>0.472229</td>\n",
       "      <td>0.125</td>\n",
       "      <td>0.0</td>\n",
       "      <td>0.139136</td>\n",
       "      <td>0.5</td>\n",
       "      <td>0.0</td>\n",
       "      <td>0.0</td>\n",
       "      <td>1.0</td>\n",
       "      <td>0.0</td>\n",
       "      <td>0.0</td>\n",
       "      <td>0.0</td>\n",
       "      <td>1.0</td>\n",
       "    </tr>\n",
       "    <tr>\n",
       "      <th>2</th>\n",
       "      <td>1.0</td>\n",
       "      <td>0.0</td>\n",
       "      <td>0.321438</td>\n",
       "      <td>0.000</td>\n",
       "      <td>0.0</td>\n",
       "      <td>0.015469</td>\n",
       "      <td>0.0</td>\n",
       "      <td>0.0</td>\n",
       "      <td>0.0</td>\n",
       "      <td>1.0</td>\n",
       "      <td>0.0</td>\n",
       "      <td>1.0</td>\n",
       "      <td>0.0</td>\n",
       "      <td>0.0</td>\n",
       "    </tr>\n",
       "    <tr>\n",
       "      <th>3</th>\n",
       "      <td>0.0</td>\n",
       "      <td>0.0</td>\n",
       "      <td>0.434531</td>\n",
       "      <td>0.125</td>\n",
       "      <td>0.0</td>\n",
       "      <td>0.103644</td>\n",
       "      <td>0.0</td>\n",
       "      <td>0.0</td>\n",
       "      <td>0.0</td>\n",
       "      <td>1.0</td>\n",
       "      <td>0.0</td>\n",
       "      <td>0.0</td>\n",
       "      <td>0.0</td>\n",
       "      <td>1.0</td>\n",
       "    </tr>\n",
       "    <tr>\n",
       "      <th>4</th>\n",
       "      <td>1.0</td>\n",
       "      <td>1.0</td>\n",
       "      <td>0.434531</td>\n",
       "      <td>0.000</td>\n",
       "      <td>0.0</td>\n",
       "      <td>0.015713</td>\n",
       "      <td>0.0</td>\n",
       "      <td>0.0</td>\n",
       "      <td>0.0</td>\n",
       "      <td>1.0</td>\n",
       "      <td>0.0</td>\n",
       "      <td>1.0</td>\n",
       "      <td>0.0</td>\n",
       "      <td>0.0</td>\n",
       "    </tr>\n",
       "  </tbody>\n",
       "</table>\n",
       "</div>"
      ],
      "text/plain": [
       "   Classe  Sexo     Idade  Irmãos/Cônjuge  Pais/Crianças    Tarifa  Embarque  \\\n",
       "0     1.0   1.0  0.271174           0.125            0.0  0.014151       0.0   \n",
       "1     0.0   0.0  0.472229           0.125            0.0  0.139136       0.5   \n",
       "2     1.0   0.0  0.321438           0.000            0.0  0.015469       0.0   \n",
       "3     0.0   0.0  0.434531           0.125            0.0  0.103644       0.0   \n",
       "4     1.0   1.0  0.434531           0.000            0.0  0.015713       0.0   \n",
       "\n",
       "   Criança  Jovem  Adulto  Idoso  Barato  Caro  Medio  \n",
       "0      0.0    1.0     0.0    0.0     1.0   0.0    0.0  \n",
       "1      0.0    0.0     1.0    0.0     0.0   0.0    1.0  \n",
       "2      0.0    0.0     1.0    0.0     1.0   0.0    0.0  \n",
       "3      0.0    0.0     1.0    0.0     0.0   0.0    1.0  \n",
       "4      0.0    0.0     1.0    0.0     1.0   0.0    0.0  "
      ]
     },
     "execution_count": 21,
     "metadata": {},
     "output_type": "execute_result"
    }
   ],
   "source": [
    "from sklearn import preprocessing\n",
    "X = titanic.values\n",
    "min_max_scaler = preprocessing.MinMaxScaler()\n",
    "df_minmax = min_max_scaler.fit_transform(X)\n",
    "df_minmax = pd.DataFrame(df_minmax,columns=titanic.columns)\n",
    "df_minmax.head()"
   ]
  },
  {
   "cell_type": "code",
   "execution_count": 22,
   "metadata": {},
   "outputs": [
    {
     "data": {
      "text/html": [
       "<div>\n",
       "<style scoped>\n",
       "    .dataframe tbody tr th:only-of-type {\n",
       "        vertical-align: middle;\n",
       "    }\n",
       "\n",
       "    .dataframe tbody tr th {\n",
       "        vertical-align: top;\n",
       "    }\n",
       "\n",
       "    .dataframe thead th {\n",
       "        text-align: right;\n",
       "    }\n",
       "</style>\n",
       "<table border=\"1\" class=\"dataframe\">\n",
       "  <thead>\n",
       "    <tr style=\"text-align: right;\">\n",
       "      <th></th>\n",
       "      <th>Classe</th>\n",
       "      <th>Sexo</th>\n",
       "      <th>Idade</th>\n",
       "      <th>Irmãos/Cônjuge</th>\n",
       "      <th>Pais/Crianças</th>\n",
       "      <th>Tarifa</th>\n",
       "      <th>Embarque</th>\n",
       "      <th>Criança</th>\n",
       "      <th>Jovem</th>\n",
       "      <th>Adulto</th>\n",
       "      <th>Idoso</th>\n",
       "      <th>Barato</th>\n",
       "      <th>Caro</th>\n",
       "      <th>Medio</th>\n",
       "    </tr>\n",
       "  </thead>\n",
       "  <tbody>\n",
       "    <tr>\n",
       "      <th>count</th>\n",
       "      <td>891.00</td>\n",
       "      <td>891.00</td>\n",
       "      <td>891.00</td>\n",
       "      <td>891.00</td>\n",
       "      <td>891.00</td>\n",
       "      <td>891.00</td>\n",
       "      <td>891.00</td>\n",
       "      <td>891.00</td>\n",
       "      <td>891.00</td>\n",
       "      <td>891.00</td>\n",
       "      <td>891.00</td>\n",
       "      <td>891.00</td>\n",
       "      <td>891.00</td>\n",
       "      <td>891.00</td>\n",
       "    </tr>\n",
       "    <tr>\n",
       "      <th>mean</th>\n",
       "      <td>0.65</td>\n",
       "      <td>0.65</td>\n",
       "      <td>0.37</td>\n",
       "      <td>0.07</td>\n",
       "      <td>0.06</td>\n",
       "      <td>0.06</td>\n",
       "      <td>0.18</td>\n",
       "      <td>0.09</td>\n",
       "      <td>0.24</td>\n",
       "      <td>0.64</td>\n",
       "      <td>0.02</td>\n",
       "      <td>0.35</td>\n",
       "      <td>0.32</td>\n",
       "      <td>0.33</td>\n",
       "    </tr>\n",
       "    <tr>\n",
       "      <th>std</th>\n",
       "      <td>0.42</td>\n",
       "      <td>0.48</td>\n",
       "      <td>0.16</td>\n",
       "      <td>0.14</td>\n",
       "      <td>0.13</td>\n",
       "      <td>0.10</td>\n",
       "      <td>0.32</td>\n",
       "      <td>0.29</td>\n",
       "      <td>0.43</td>\n",
       "      <td>0.48</td>\n",
       "      <td>0.16</td>\n",
       "      <td>0.48</td>\n",
       "      <td>0.47</td>\n",
       "      <td>0.47</td>\n",
       "    </tr>\n",
       "    <tr>\n",
       "      <th>min</th>\n",
       "      <td>0.00</td>\n",
       "      <td>0.00</td>\n",
       "      <td>0.00</td>\n",
       "      <td>0.00</td>\n",
       "      <td>0.00</td>\n",
       "      <td>0.00</td>\n",
       "      <td>0.00</td>\n",
       "      <td>0.00</td>\n",
       "      <td>0.00</td>\n",
       "      <td>0.00</td>\n",
       "      <td>0.00</td>\n",
       "      <td>0.00</td>\n",
       "      <td>0.00</td>\n",
       "      <td>0.00</td>\n",
       "    </tr>\n",
       "    <tr>\n",
       "      <th>25%</th>\n",
       "      <td>0.50</td>\n",
       "      <td>0.00</td>\n",
       "      <td>0.27</td>\n",
       "      <td>0.00</td>\n",
       "      <td>0.00</td>\n",
       "      <td>0.02</td>\n",
       "      <td>0.00</td>\n",
       "      <td>0.00</td>\n",
       "      <td>0.00</td>\n",
       "      <td>0.00</td>\n",
       "      <td>0.00</td>\n",
       "      <td>0.00</td>\n",
       "      <td>0.00</td>\n",
       "      <td>0.00</td>\n",
       "    </tr>\n",
       "    <tr>\n",
       "      <th>50%</th>\n",
       "      <td>1.00</td>\n",
       "      <td>1.00</td>\n",
       "      <td>0.37</td>\n",
       "      <td>0.00</td>\n",
       "      <td>0.00</td>\n",
       "      <td>0.03</td>\n",
       "      <td>0.00</td>\n",
       "      <td>0.00</td>\n",
       "      <td>0.00</td>\n",
       "      <td>1.00</td>\n",
       "      <td>0.00</td>\n",
       "      <td>0.00</td>\n",
       "      <td>0.00</td>\n",
       "      <td>0.00</td>\n",
       "    </tr>\n",
       "    <tr>\n",
       "      <th>75%</th>\n",
       "      <td>1.00</td>\n",
       "      <td>1.00</td>\n",
       "      <td>0.43</td>\n",
       "      <td>0.12</td>\n",
       "      <td>0.00</td>\n",
       "      <td>0.06</td>\n",
       "      <td>0.50</td>\n",
       "      <td>0.00</td>\n",
       "      <td>0.00</td>\n",
       "      <td>1.00</td>\n",
       "      <td>0.00</td>\n",
       "      <td>1.00</td>\n",
       "      <td>1.00</td>\n",
       "      <td>1.00</td>\n",
       "    </tr>\n",
       "    <tr>\n",
       "      <th>max</th>\n",
       "      <td>1.00</td>\n",
       "      <td>1.00</td>\n",
       "      <td>1.00</td>\n",
       "      <td>1.00</td>\n",
       "      <td>1.00</td>\n",
       "      <td>1.00</td>\n",
       "      <td>1.00</td>\n",
       "      <td>1.00</td>\n",
       "      <td>1.00</td>\n",
       "      <td>1.00</td>\n",
       "      <td>1.00</td>\n",
       "      <td>1.00</td>\n",
       "      <td>1.00</td>\n",
       "      <td>1.00</td>\n",
       "    </tr>\n",
       "  </tbody>\n",
       "</table>\n",
       "</div>"
      ],
      "text/plain": [
       "       Classe    Sexo   Idade  Irmãos/Cônjuge  Pais/Crianças  Tarifa  \\\n",
       "count  891.00  891.00  891.00          891.00         891.00  891.00   \n",
       "mean     0.65    0.65    0.37            0.07           0.06    0.06   \n",
       "std      0.42    0.48    0.16            0.14           0.13    0.10   \n",
       "min      0.00    0.00    0.00            0.00           0.00    0.00   \n",
       "25%      0.50    0.00    0.27            0.00           0.00    0.02   \n",
       "50%      1.00    1.00    0.37            0.00           0.00    0.03   \n",
       "75%      1.00    1.00    0.43            0.12           0.00    0.06   \n",
       "max      1.00    1.00    1.00            1.00           1.00    1.00   \n",
       "\n",
       "       Embarque  Criança   Jovem  Adulto   Idoso  Barato    Caro   Medio  \n",
       "count    891.00   891.00  891.00  891.00  891.00  891.00  891.00  891.00  \n",
       "mean       0.18     0.09    0.24    0.64    0.02    0.35    0.32    0.33  \n",
       "std        0.32     0.29    0.43    0.48    0.16    0.48    0.47    0.47  \n",
       "min        0.00     0.00    0.00    0.00    0.00    0.00    0.00    0.00  \n",
       "25%        0.00     0.00    0.00    0.00    0.00    0.00    0.00    0.00  \n",
       "50%        0.00     0.00    0.00    1.00    0.00    0.00    0.00    0.00  \n",
       "75%        0.50     0.00    0.00    1.00    0.00    1.00    1.00    1.00  \n",
       "max        1.00     1.00    1.00    1.00    1.00    1.00    1.00    1.00  "
      ]
     },
     "execution_count": 22,
     "metadata": {},
     "output_type": "execute_result"
    }
   ],
   "source": [
    "\"\"\"Mais uma vez vamos ver como ficam a distribuição de dados do novo DataFrame\"\"\"\n",
    "\n",
    "df_minmax.describe().round(2)"
   ]
  },
  {
   "cell_type": "markdown",
   "metadata": {},
   "source": [
    "### Normalização Gaussiana (Z-Score)"
   ]
  },
  {
   "cell_type": "code",
   "execution_count": 23,
   "metadata": {},
   "outputs": [
    {
     "data": {
      "text/html": [
       "<div>\n",
       "<style scoped>\n",
       "    .dataframe tbody tr th:only-of-type {\n",
       "        vertical-align: middle;\n",
       "    }\n",
       "\n",
       "    .dataframe tbody tr th {\n",
       "        vertical-align: top;\n",
       "    }\n",
       "\n",
       "    .dataframe thead th {\n",
       "        text-align: right;\n",
       "    }\n",
       "</style>\n",
       "<table border=\"1\" class=\"dataframe\">\n",
       "  <thead>\n",
       "    <tr style=\"text-align: right;\">\n",
       "      <th></th>\n",
       "      <th>Classe</th>\n",
       "      <th>Sexo</th>\n",
       "      <th>Idade</th>\n",
       "      <th>Irmãos/Cônjuge</th>\n",
       "      <th>Pais/Crianças</th>\n",
       "      <th>Tarifa</th>\n",
       "      <th>Embarque</th>\n",
       "      <th>Criança</th>\n",
       "      <th>Jovem</th>\n",
       "      <th>Adulto</th>\n",
       "      <th>Idoso</th>\n",
       "      <th>Barato</th>\n",
       "      <th>Caro</th>\n",
       "      <th>Medio</th>\n",
       "    </tr>\n",
       "  </thead>\n",
       "  <tbody>\n",
       "    <tr>\n",
       "      <th>0</th>\n",
       "      <td>0.827377</td>\n",
       "      <td>0.737695</td>\n",
       "      <td>-0.592481</td>\n",
       "      <td>0.432793</td>\n",
       "      <td>-0.473674</td>\n",
       "      <td>-0.502445</td>\n",
       "      <td>-0.568837</td>\n",
       "      <td>-0.320504</td>\n",
       "      <td>1.757030</td>\n",
       "      <td>-1.326090</td>\n",
       "      <td>-0.159111</td>\n",
       "      <td>1.375811</td>\n",
       "      <td>-0.691095</td>\n",
       "      <td>-0.703539</td>\n",
       "    </tr>\n",
       "    <tr>\n",
       "      <th>1</th>\n",
       "      <td>-1.566107</td>\n",
       "      <td>-1.355574</td>\n",
       "      <td>0.638789</td>\n",
       "      <td>0.432793</td>\n",
       "      <td>-0.473674</td>\n",
       "      <td>0.786845</td>\n",
       "      <td>1.005181</td>\n",
       "      <td>-0.320504</td>\n",
       "      <td>-0.569142</td>\n",
       "      <td>0.754097</td>\n",
       "      <td>-0.159111</td>\n",
       "      <td>-0.726844</td>\n",
       "      <td>-0.691095</td>\n",
       "      <td>1.421386</td>\n",
       "    </tr>\n",
       "    <tr>\n",
       "      <th>2</th>\n",
       "      <td>0.827377</td>\n",
       "      <td>-1.355574</td>\n",
       "      <td>-0.284663</td>\n",
       "      <td>-0.474545</td>\n",
       "      <td>-0.473674</td>\n",
       "      <td>-0.488854</td>\n",
       "      <td>-0.568837</td>\n",
       "      <td>-0.320504</td>\n",
       "      <td>-0.569142</td>\n",
       "      <td>0.754097</td>\n",
       "      <td>-0.159111</td>\n",
       "      <td>1.375811</td>\n",
       "      <td>-0.691095</td>\n",
       "      <td>-0.703539</td>\n",
       "    </tr>\n",
       "    <tr>\n",
       "      <th>3</th>\n",
       "      <td>-1.566107</td>\n",
       "      <td>-1.355574</td>\n",
       "      <td>0.407926</td>\n",
       "      <td>0.432793</td>\n",
       "      <td>-0.473674</td>\n",
       "      <td>0.420730</td>\n",
       "      <td>-0.568837</td>\n",
       "      <td>-0.320504</td>\n",
       "      <td>-0.569142</td>\n",
       "      <td>0.754097</td>\n",
       "      <td>-0.159111</td>\n",
       "      <td>-0.726844</td>\n",
       "      <td>-0.691095</td>\n",
       "      <td>1.421386</td>\n",
       "    </tr>\n",
       "    <tr>\n",
       "      <th>4</th>\n",
       "      <td>0.827377</td>\n",
       "      <td>0.737695</td>\n",
       "      <td>0.407926</td>\n",
       "      <td>-0.474545</td>\n",
       "      <td>-0.473674</td>\n",
       "      <td>-0.486337</td>\n",
       "      <td>-0.568837</td>\n",
       "      <td>-0.320504</td>\n",
       "      <td>-0.569142</td>\n",
       "      <td>0.754097</td>\n",
       "      <td>-0.159111</td>\n",
       "      <td>1.375811</td>\n",
       "      <td>-0.691095</td>\n",
       "      <td>-0.703539</td>\n",
       "    </tr>\n",
       "  </tbody>\n",
       "</table>\n",
       "</div>"
      ],
      "text/plain": [
       "     Classe      Sexo     Idade  Irmãos/Cônjuge  Pais/Crianças    Tarifa  \\\n",
       "0  0.827377  0.737695 -0.592481        0.432793      -0.473674 -0.502445   \n",
       "1 -1.566107 -1.355574  0.638789        0.432793      -0.473674  0.786845   \n",
       "2  0.827377 -1.355574 -0.284663       -0.474545      -0.473674 -0.488854   \n",
       "3 -1.566107 -1.355574  0.407926        0.432793      -0.473674  0.420730   \n",
       "4  0.827377  0.737695  0.407926       -0.474545      -0.473674 -0.486337   \n",
       "\n",
       "   Embarque   Criança     Jovem    Adulto     Idoso    Barato      Caro  \\\n",
       "0 -0.568837 -0.320504  1.757030 -1.326090 -0.159111  1.375811 -0.691095   \n",
       "1  1.005181 -0.320504 -0.569142  0.754097 -0.159111 -0.726844 -0.691095   \n",
       "2 -0.568837 -0.320504 -0.569142  0.754097 -0.159111  1.375811 -0.691095   \n",
       "3 -0.568837 -0.320504 -0.569142  0.754097 -0.159111 -0.726844 -0.691095   \n",
       "4 -0.568837 -0.320504 -0.569142  0.754097 -0.159111  1.375811 -0.691095   \n",
       "\n",
       "      Medio  \n",
       "0 -0.703539  \n",
       "1  1.421386  \n",
       "2 -0.703539  \n",
       "3  1.421386  \n",
       "4 -0.703539  "
      ]
     },
     "execution_count": 23,
     "metadata": {},
     "output_type": "execute_result"
    }
   ],
   "source": [
    "from sklearn import preprocessing\n",
    "X = titanic.values\n",
    "standard_scaler = preprocessing.StandardScaler()\n",
    "df_standard = standard_scaler.fit_transform(X)\n",
    "df_standard = pd.DataFrame(df_standard,columns=titanic.columns)\n",
    "df_standard.head()"
   ]
  },
  {
   "cell_type": "code",
   "execution_count": 24,
   "metadata": {},
   "outputs": [
    {
     "data": {
      "text/html": [
       "<div>\n",
       "<style scoped>\n",
       "    .dataframe tbody tr th:only-of-type {\n",
       "        vertical-align: middle;\n",
       "    }\n",
       "\n",
       "    .dataframe tbody tr th {\n",
       "        vertical-align: top;\n",
       "    }\n",
       "\n",
       "    .dataframe thead th {\n",
       "        text-align: right;\n",
       "    }\n",
       "</style>\n",
       "<table border=\"1\" class=\"dataframe\">\n",
       "  <thead>\n",
       "    <tr style=\"text-align: right;\">\n",
       "      <th></th>\n",
       "      <th>Classe</th>\n",
       "      <th>Sexo</th>\n",
       "      <th>Idade</th>\n",
       "      <th>Irmãos/Cônjuge</th>\n",
       "      <th>Pais/Crianças</th>\n",
       "      <th>Tarifa</th>\n",
       "      <th>Embarque</th>\n",
       "      <th>Criança</th>\n",
       "      <th>Jovem</th>\n",
       "      <th>Adulto</th>\n",
       "      <th>Idoso</th>\n",
       "      <th>Barato</th>\n",
       "      <th>Caro</th>\n",
       "      <th>Medio</th>\n",
       "    </tr>\n",
       "  </thead>\n",
       "  <tbody>\n",
       "    <tr>\n",
       "      <th>count</th>\n",
       "      <td>891.00</td>\n",
       "      <td>891.00</td>\n",
       "      <td>891.00</td>\n",
       "      <td>891.00</td>\n",
       "      <td>891.00</td>\n",
       "      <td>891.00</td>\n",
       "      <td>891.00</td>\n",
       "      <td>891.00</td>\n",
       "      <td>891.00</td>\n",
       "      <td>891.00</td>\n",
       "      <td>891.00</td>\n",
       "      <td>891.00</td>\n",
       "      <td>891.00</td>\n",
       "      <td>891.00</td>\n",
       "    </tr>\n",
       "    <tr>\n",
       "      <th>mean</th>\n",
       "      <td>-0.00</td>\n",
       "      <td>-0.00</td>\n",
       "      <td>0.00</td>\n",
       "      <td>0.00</td>\n",
       "      <td>0.00</td>\n",
       "      <td>-0.00</td>\n",
       "      <td>-0.00</td>\n",
       "      <td>0.00</td>\n",
       "      <td>-0.00</td>\n",
       "      <td>0.00</td>\n",
       "      <td>-0.00</td>\n",
       "      <td>0.00</td>\n",
       "      <td>-0.00</td>\n",
       "      <td>0.00</td>\n",
       "    </tr>\n",
       "    <tr>\n",
       "      <th>std</th>\n",
       "      <td>1.00</td>\n",
       "      <td>1.00</td>\n",
       "      <td>1.00</td>\n",
       "      <td>1.00</td>\n",
       "      <td>1.00</td>\n",
       "      <td>1.00</td>\n",
       "      <td>1.00</td>\n",
       "      <td>1.00</td>\n",
       "      <td>1.00</td>\n",
       "      <td>1.00</td>\n",
       "      <td>1.00</td>\n",
       "      <td>1.00</td>\n",
       "      <td>1.00</td>\n",
       "      <td>1.00</td>\n",
       "    </tr>\n",
       "    <tr>\n",
       "      <th>min</th>\n",
       "      <td>-1.57</td>\n",
       "      <td>-1.36</td>\n",
       "      <td>-2.25</td>\n",
       "      <td>-0.47</td>\n",
       "      <td>-0.47</td>\n",
       "      <td>-0.65</td>\n",
       "      <td>-0.57</td>\n",
       "      <td>-0.32</td>\n",
       "      <td>-0.57</td>\n",
       "      <td>-1.33</td>\n",
       "      <td>-0.16</td>\n",
       "      <td>-0.73</td>\n",
       "      <td>-0.69</td>\n",
       "      <td>-0.70</td>\n",
       "    </tr>\n",
       "    <tr>\n",
       "      <th>25%</th>\n",
       "      <td>-0.37</td>\n",
       "      <td>-1.36</td>\n",
       "      <td>-0.59</td>\n",
       "      <td>-0.47</td>\n",
       "      <td>-0.47</td>\n",
       "      <td>-0.49</td>\n",
       "      <td>-0.57</td>\n",
       "      <td>-0.32</td>\n",
       "      <td>-0.57</td>\n",
       "      <td>-1.33</td>\n",
       "      <td>-0.16</td>\n",
       "      <td>-0.73</td>\n",
       "      <td>-0.69</td>\n",
       "      <td>-0.70</td>\n",
       "    </tr>\n",
       "    <tr>\n",
       "      <th>50%</th>\n",
       "      <td>0.83</td>\n",
       "      <td>0.74</td>\n",
       "      <td>0.00</td>\n",
       "      <td>-0.47</td>\n",
       "      <td>-0.47</td>\n",
       "      <td>-0.36</td>\n",
       "      <td>-0.57</td>\n",
       "      <td>-0.32</td>\n",
       "      <td>-0.57</td>\n",
       "      <td>0.75</td>\n",
       "      <td>-0.16</td>\n",
       "      <td>-0.73</td>\n",
       "      <td>-0.69</td>\n",
       "      <td>-0.70</td>\n",
       "    </tr>\n",
       "    <tr>\n",
       "      <th>75%</th>\n",
       "      <td>0.83</td>\n",
       "      <td>0.74</td>\n",
       "      <td>0.41</td>\n",
       "      <td>0.43</td>\n",
       "      <td>-0.47</td>\n",
       "      <td>-0.02</td>\n",
       "      <td>1.01</td>\n",
       "      <td>-0.32</td>\n",
       "      <td>-0.57</td>\n",
       "      <td>0.75</td>\n",
       "      <td>-0.16</td>\n",
       "      <td>1.38</td>\n",
       "      <td>1.45</td>\n",
       "      <td>1.42</td>\n",
       "    </tr>\n",
       "    <tr>\n",
       "      <th>max</th>\n",
       "      <td>0.83</td>\n",
       "      <td>0.74</td>\n",
       "      <td>3.87</td>\n",
       "      <td>6.78</td>\n",
       "      <td>6.97</td>\n",
       "      <td>9.67</td>\n",
       "      <td>2.58</td>\n",
       "      <td>3.12</td>\n",
       "      <td>1.76</td>\n",
       "      <td>0.75</td>\n",
       "      <td>6.28</td>\n",
       "      <td>1.38</td>\n",
       "      <td>1.45</td>\n",
       "      <td>1.42</td>\n",
       "    </tr>\n",
       "  </tbody>\n",
       "</table>\n",
       "</div>"
      ],
      "text/plain": [
       "       Classe    Sexo   Idade  Irmãos/Cônjuge  Pais/Crianças  Tarifa  \\\n",
       "count  891.00  891.00  891.00          891.00         891.00  891.00   \n",
       "mean    -0.00   -0.00    0.00            0.00           0.00   -0.00   \n",
       "std      1.00    1.00    1.00            1.00           1.00    1.00   \n",
       "min     -1.57   -1.36   -2.25           -0.47          -0.47   -0.65   \n",
       "25%     -0.37   -1.36   -0.59           -0.47          -0.47   -0.49   \n",
       "50%      0.83    0.74    0.00           -0.47          -0.47   -0.36   \n",
       "75%      0.83    0.74    0.41            0.43          -0.47   -0.02   \n",
       "max      0.83    0.74    3.87            6.78           6.97    9.67   \n",
       "\n",
       "       Embarque  Criança   Jovem  Adulto   Idoso  Barato    Caro   Medio  \n",
       "count    891.00   891.00  891.00  891.00  891.00  891.00  891.00  891.00  \n",
       "mean      -0.00     0.00   -0.00    0.00   -0.00    0.00   -0.00    0.00  \n",
       "std        1.00     1.00    1.00    1.00    1.00    1.00    1.00    1.00  \n",
       "min       -0.57    -0.32   -0.57   -1.33   -0.16   -0.73   -0.69   -0.70  \n",
       "25%       -0.57    -0.32   -0.57   -1.33   -0.16   -0.73   -0.69   -0.70  \n",
       "50%       -0.57    -0.32   -0.57    0.75   -0.16   -0.73   -0.69   -0.70  \n",
       "75%        1.01    -0.32   -0.57    0.75   -0.16    1.38    1.45    1.42  \n",
       "max        2.58     3.12    1.76    0.75    6.28    1.38    1.45    1.42  "
      ]
     },
     "execution_count": 24,
     "metadata": {},
     "output_type": "execute_result"
    }
   ],
   "source": [
    "\"\"\"Mais uma vez vamos ver como ficam a distribuição de dados do novo DataFrame\"\"\"\n",
    "\n",
    "df_standard.describe().round(2)"
   ]
  },
  {
   "cell_type": "markdown",
   "metadata": {
    "nbgrader": {
     "checksum": "f0d8a6e6f1796dd2b93de6fdf2ab1045",
     "grade": false,
     "grade_id": "RO_title_pca",
     "locked": true,
     "schema_version": 1,
     "solution": false
    }
   },
   "source": [
    "##  Parte 2 - Utilizando o PCA"
   ]
  },
  {
   "cell_type": "markdown",
   "metadata": {
    "deletable": false,
    "editable": false,
    "nbgrader": {
     "checksum": "7394abfef286a14f0028e27029cdddc7",
     "grade": false,
     "grade_id": "cell-6f19b61b28f97b3d",
     "locked": true,
     "schema_version": 1,
     "solution": false
    }
   },
   "source": [
    "O **PCA** (Principal Component Analysis), método de redução de dimensionalidade que utilizaremos mais adiante, deve ser aplicado apenas em dados numéricos. Portanto, devemos ter certeza de que todas as colunas do nosso dataframe satisfazem a este requisito."
   ]
  },
  {
   "cell_type": "code",
   "execution_count": 25,
   "metadata": {},
   "outputs": [],
   "source": [
    "data = titanic.values"
   ]
  },
  {
   "cell_type": "markdown",
   "metadata": {
    "deletable": false,
    "nbgrader": {
     "checksum": "58be7fbbf54be4d7a1fd90c353fc1b4e",
     "grade": false,
     "grade_id": "RO_pca_1",
     "locked": true,
     "schema_version": 1,
     "solution": false
    }
   },
   "source": [
    "Agora vamos utilizar o PCA para reduzir a dimensionalidade dos nossos dados. Não se preocupe em saber os detalhes do PCA, pois vamos aprender com mais profundidade em uma próxima aula. Novamente, vamos nos guiar pela documentação da biblioteca, que você pode acessar clicando <a href=\"http://scikit-learn.org/stable/modules/generated/sklearn.decomposition.PCA.html\">aqui</a>.\n",
    "\n",
    "Em um primeiro momento, não devemos passar nenhum valor para o parâmetro **n_components**, dessa forma, podemos visualizar todos os componentes principais gerados e posteriormente decidirmos o número de componentes a serem utilizados."
   ]
  },
  {
   "cell_type": "code",
   "execution_count": 26,
   "metadata": {
    "deletable": false,
    "nbgrader": {
     "checksum": "67b09a6de724c324c3b59596c2b6a1d0",
     "grade": false,
     "grade_id": "AG_pca_1",
     "locked": false,
     "schema_version": 1,
     "solution": true
    }
   },
   "outputs": [
    {
     "name": "stdout",
     "output_type": "stream",
     "text": [
      "[9.35100479e-01 6.35007730e-02 4.96894626e-04 2.21193659e-04\n",
      " 1.79225571e-04 1.53493184e-04 1.23371779e-04 9.74991821e-05\n",
      " 6.59987760e-05 3.38458979e-05 2.20304545e-05 5.19464327e-06\n",
      " 1.90225253e-35 3.40625355e-36]\n",
      "[0.93510048 0.99860125 0.99909815 0.99931934 0.99949857 0.99965206\n",
      " 0.99977543 0.99987293 0.99993893 0.99997277 0.99999481 1.\n",
      " 1.         1.        ]\n"
     ]
    }
   ],
   "source": [
    "\"\"\"Crie uma variável pca que receba a função PCA(), em seguida treine o modelo com seus dados \n",
    "e analise a porcentagem de variância explicada por cada componente principal.\n",
    "Dica: arrays possuem a função .cumsum() que permite visualizar o valor acumulativos de seus itens.\"\"\"\n",
    "\n",
    "pca = PCA()\n",
    "pca.fit(data)\n",
    "print(pca.explained_variance_ratio_)\n",
    "print(pca.explained_variance_ratio_.cumsum())"
   ]
  },
  {
   "cell_type": "code",
   "execution_count": null,
   "metadata": {},
   "outputs": [],
   "source": []
  },
  {
   "cell_type": "markdown",
   "metadata": {
    "deletable": false,
    "editable": false,
    "nbgrader": {
     "checksum": "50a768a6db2a278a577b60679bffe540",
     "grade": false,
     "grade_id": "RO_pca_2",
     "locked": true,
     "schema_version": 1,
     "solution": false
    }
   },
   "source": [
    "Baseando-se na análise realizada acima, já podemos reduzir a dimensionalidade de nossos dados. Agora o parâmetro **n_components** deve ser alterado recebendo como valor o número de componentes principais necessários para explicar no mínimo 97% da variância dos dados. Após a alteração do parâmetro, o modelo deve ser retreinado e em seguida, podemos realizar a transformação dos dados."
   ]
  },
  {
   "cell_type": "code",
   "execution_count": 27,
   "metadata": {
    "deletable": false,
    "nbgrader": {
     "checksum": "1be666a0da87316d2d9bc1dca69b7c4e",
     "grade": false,
     "grade_id": "AG_pca_2",
     "locked": false,
     "schema_version": 1,
     "solution": true
    }
   },
   "outputs": [],
   "source": [
    "\"\"\"Crie uma nova variável chamada data_pca, a variável deverá receber os dados transformados pelo PCA,\n",
    "contendo componentes principais suficientes para explicar 97% da variância dos dados.\"\"\"\n",
    "\n",
    "pca = PCA(n_components=12)\n",
    "data_pca = pca.fit_transform(data)"
   ]
  },
  {
   "cell_type": "code",
   "execution_count": 28,
   "metadata": {
    "deletable": false,
    "editable": false,
    "nbgrader": {
     "checksum": "c57161701220d6eb983bca50e4d209ed",
     "grade": true,
     "grade_id": "AT_pca_2",
     "locked": true,
     "points": 2,
     "schema_version": 1,
     "solution": false
    }
   },
   "outputs": [],
   "source": [
    "\"\"\"O número de componentes principais não pode ser 4.\"\"\"\n",
    "assert pca.n_components_ != 13"
   ]
  },
  {
   "cell_type": "code",
   "execution_count": 29,
   "metadata": {
    "deletable": false,
    "editable": false,
    "nbgrader": {
     "checksum": "8d2674c7fe02eed0b49aa59457803869",
     "grade": false,
     "grade_id": "RO_pca_type",
     "locked": true,
     "schema_version": 1,
     "solution": false
    }
   },
   "outputs": [
    {
     "data": {
      "text/plain": [
       "numpy.ndarray"
      ]
     },
     "execution_count": 29,
     "metadata": {},
     "output_type": "execute_result"
    }
   ],
   "source": [
    "\"\"\"Como podemos ver abaixo, após realizar a transformação dos dados, \n",
    "a biblioteca PCA nos retorna um numpy.ndarray\"\"\"\n",
    "type(data_pca)"
   ]
  },
  {
   "cell_type": "code",
   "execution_count": 30,
   "metadata": {},
   "outputs": [
    {
     "data": {
      "text/plain": [
       "array([[-2.51524988e+01, -7.08628257e+00,  5.72383130e-02, ...,\n",
       "        -1.40165786e-01, -1.40083642e-01, -4.53440848e-02],\n",
       "       [ 3.92961663e+01,  7.31486723e+00,  2.79803483e-01, ...,\n",
       "        -5.43315135e-02,  2.25756100e-02, -1.63464349e-02],\n",
       "       [-2.43763462e+01, -3.05748738e+00, -5.87356926e-01, ...,\n",
       "         2.46863748e-02, -2.35137323e-02,  1.16694942e-01],\n",
       "       ...,\n",
       "       [-8.75080288e+00,  1.89452015e-01,  1.28414352e+00, ...,\n",
       "        -2.94476007e-01, -3.56905941e-02,  1.00966932e-01],\n",
       "       [-2.28376555e+00, -3.58258812e+00, -7.14977635e-01, ...,\n",
       "        -2.21382529e-01,  1.35010931e-01,  1.27704169e-01],\n",
       "       [-2.43972564e+01,  2.94371630e+00, -6.33885132e-01, ...,\n",
       "        -7.99809545e-02, -8.75012649e-02, -1.74288652e-03]])"
      ]
     },
     "execution_count": 30,
     "metadata": {},
     "output_type": "execute_result"
    }
   ],
   "source": [
    "data_pca"
   ]
  },
  {
   "cell_type": "markdown",
   "metadata": {
    "deletable": false,
    "editable": false,
    "nbgrader": {
     "checksum": "6307d8edf42e16544db5302efbfc109b",
     "grade": false,
     "grade_id": "cell-e01b9464684af39e",
     "locked": true,
     "schema_version": 1,
     "solution": false
    }
   },
   "source": [
    "Agora que reduzimos a dimensionalidade dos dados, podemos gerar uma visualização aproximada de como os pontos estão distribuídos no espaço, utilizando a função abaixo."
   ]
  },
  {
   "cell_type": "code",
   "execution_count": 32,
   "metadata": {
    "deletable": false,
    "editable": false,
    "nbgrader": {
     "checksum": "233ce7d8534405bd0b8189edca2e897b",
     "grade": false,
     "grade_id": "RO_plot_scatter",
     "locked": true,
     "schema_version": 1,
     "solution": false
    }
   },
   "outputs": [],
   "source": [
    "\"\"\"Gera scatter plot utilizando como coordenada os 2 primeiros componentes principais\"\"\"\n",
    "#Not ready\n",
    "def plot_scatter(data_pca):\n",
    "    #subplot permite que montemos o plot durante o processo de iteração.\n",
    "    ax = plt.subplot()\n",
    "    \n",
    "    #Gera pontos de cores diferentes para cada espécie\n",
    "    for value in target.unique():    \n",
    "        ax.scatter(data_pca[data_pca['species'] == spec]['PC1'], \n",
    "                   data_pca[data_pca['species'] == spec]['PC2'],\n",
    "                  label = value)\n",
    "    \n",
    "    #Determina o local onde a legenda será plotada. loc = 0: canto inferior direito\n",
    "    plt.legend(loc=0)\n",
    "    plt.show()"
   ]
  },
  {
   "cell_type": "markdown",
   "metadata": {
    "deletable": false,
    "editable": false,
    "nbgrader": {
     "checksum": "91c02dedc40c59987403bc30f3e97b32",
     "grade": false,
     "grade_id": "cell-ca08065919b78c51",
     "locked": true,
     "schema_version": 1,
     "solution": false
    }
   },
   "source": [
    "A função **plot_scatter** recebe como parâmetro um DataFrame **data_pca** com 3 colunas, **PC1, PC2, species**. Você deve converter o numpy.ndarray obtido anteriormente em um DataFrame de mesma configuração para que possa utilizar a função e gerar o scatter plot."
   ]
  },
  {
   "cell_type": "code",
   "execution_count": 41,
   "metadata": {
    "deletable": false,
    "nbgrader": {
     "checksum": "4984dab5917ee8fd6d5503447ddde335",
     "grade": false,
     "grade_id": "AG_plot_scatter",
     "locked": false,
     "schema_version": 1,
     "solution": true
    }
   },
   "outputs": [
    {
     "ename": "NameError",
     "evalue": "name 'column' is not defined",
     "output_type": "error",
     "traceback": [
      "\u001b[0;31m---------------------------------------------------------------------------\u001b[0m",
      "\u001b[0;31mNameError\u001b[0m                                 Traceback (most recent call last)",
      "\u001b[0;32m<ipython-input-41-19b82f17581f>\u001b[0m in \u001b[0;36m<module>\u001b[0;34m\u001b[0m\n\u001b[1;32m      2\u001b[0m \u001b[0;34m\u001b[0m\u001b[0m\n\u001b[1;32m      3\u001b[0m \u001b[0mdata_pca\u001b[0m \u001b[0;34m=\u001b[0m \u001b[0mpd\u001b[0m\u001b[0;34m.\u001b[0m\u001b[0mDataFrame\u001b[0m\u001b[0;34m(\u001b[0m\u001b[0mdata_pca\u001b[0m\u001b[0;34m,\u001b[0m \u001b[0mcolumns\u001b[0m\u001b[0;34m=\u001b[0m\u001b[0;34m[\u001b[0m\u001b[0;34m'PC1'\u001b[0m\u001b[0;34m,\u001b[0m \u001b[0;34m'PC2'\u001b[0m\u001b[0;34m]\u001b[0m\u001b[0;34m)\u001b[0m\u001b[0;34m\u001b[0m\u001b[0;34m\u001b[0m\u001b[0m\n\u001b[0;32m----> 4\u001b[0;31m \u001b[0mdata_pca\u001b[0m \u001b[0;34m=\u001b[0m \u001b[0mpd\u001b[0m\u001b[0;34m.\u001b[0m\u001b[0mconcat\u001b[0m\u001b[0;34m(\u001b[0m\u001b[0;34m[\u001b[0m\u001b[0mdata_pca\u001b[0m\u001b[0;34m,\u001b[0m \u001b[0mcolumn\u001b[0m\u001b[0;34m]\u001b[0m\u001b[0;34m,\u001b[0m \u001b[0maxis\u001b[0m\u001b[0;34m=\u001b[0m\u001b[0;36m1\u001b[0m\u001b[0;34m)\u001b[0m\u001b[0;34m\u001b[0m\u001b[0;34m\u001b[0m\u001b[0m\n\u001b[0m\u001b[1;32m      5\u001b[0m \u001b[0mdata_pca\u001b[0m\u001b[0;34m.\u001b[0m\u001b[0mhead\u001b[0m\u001b[0;34m(\u001b[0m\u001b[0;34m)\u001b[0m\u001b[0;34m\u001b[0m\u001b[0;34m\u001b[0m\u001b[0m\n",
      "\u001b[0;31mNameError\u001b[0m: name 'column' is not defined"
     ]
    }
   ],
   "source": [
    "\"\"\"Converta a variável data_pca em um DataFrame de colunas PC1, PC2 e species\"\"\"\n",
    "\n",
    "data_pca = pd.DataFrame(data_pca, columns=['PC1', 'PC2'])\n",
    "data_pca = pd.concat([data_pca, column], axis=1)\n",
    "data_pca.head()"
   ]
  },
  {
   "cell_type": "code",
   "execution_count": 42,
   "metadata": {
    "deletable": false,
    "editable": false,
    "nbgrader": {
     "checksum": "f528da8e62337acc7b1edcdabddea04a",
     "grade": true,
     "grade_id": "AT_plot_scatter",
     "locked": true,
     "points": 4,
     "schema_version": 1,
     "solution": false
    }
   },
   "outputs": [
    {
     "ename": "ValueError",
     "evalue": "O DataFrame não cumpri os requisitos necessários.",
     "output_type": "error",
     "traceback": [
      "\u001b[0;31m---------------------------------------------------------------------------\u001b[0m",
      "\u001b[0;31mKeyError\u001b[0m                                  Traceback (most recent call last)",
      "\u001b[0;32m~/anaconda3/lib/python3.7/site-packages/pandas/core/indexes/base.py\u001b[0m in \u001b[0;36mget_loc\u001b[0;34m(self, key, method, tolerance)\u001b[0m\n\u001b[1;32m   3077\u001b[0m             \u001b[0;32mtry\u001b[0m\u001b[0;34m:\u001b[0m\u001b[0;34m\u001b[0m\u001b[0;34m\u001b[0m\u001b[0m\n\u001b[0;32m-> 3078\u001b[0;31m                 \u001b[0;32mreturn\u001b[0m \u001b[0mself\u001b[0m\u001b[0;34m.\u001b[0m\u001b[0m_engine\u001b[0m\u001b[0;34m.\u001b[0m\u001b[0mget_loc\u001b[0m\u001b[0;34m(\u001b[0m\u001b[0mkey\u001b[0m\u001b[0;34m)\u001b[0m\u001b[0;34m\u001b[0m\u001b[0;34m\u001b[0m\u001b[0m\n\u001b[0m\u001b[1;32m   3079\u001b[0m             \u001b[0;32mexcept\u001b[0m \u001b[0mKeyError\u001b[0m\u001b[0;34m:\u001b[0m\u001b[0;34m\u001b[0m\u001b[0;34m\u001b[0m\u001b[0m\n",
      "\u001b[0;32mpandas/_libs/index.pyx\u001b[0m in \u001b[0;36mpandas._libs.index.IndexEngine.get_loc\u001b[0;34m()\u001b[0m\n",
      "\u001b[0;32mpandas/_libs/index.pyx\u001b[0m in \u001b[0;36mpandas._libs.index.IndexEngine.get_loc\u001b[0;34m()\u001b[0m\n",
      "\u001b[0;32mpandas/_libs/hashtable_class_helper.pxi\u001b[0m in \u001b[0;36mpandas._libs.hashtable.PyObjectHashTable.get_item\u001b[0;34m()\u001b[0m\n",
      "\u001b[0;32mpandas/_libs/hashtable_class_helper.pxi\u001b[0m in \u001b[0;36mpandas._libs.hashtable.PyObjectHashTable.get_item\u001b[0;34m()\u001b[0m\n",
      "\u001b[0;31mKeyError\u001b[0m: 'species'",
      "\nDuring handling of the above exception, another exception occurred:\n",
      "\u001b[0;31mKeyError\u001b[0m                                  Traceback (most recent call last)",
      "\u001b[0;32m<ipython-input-42-d74f8f576953>\u001b[0m in \u001b[0;36m<module>\u001b[0;34m\u001b[0m\n\u001b[1;32m      1\u001b[0m \u001b[0;32mtry\u001b[0m\u001b[0;34m:\u001b[0m\u001b[0;34m\u001b[0m\u001b[0;34m\u001b[0m\u001b[0m\n\u001b[0;32m----> 2\u001b[0;31m     \u001b[0mplot_scatter\u001b[0m\u001b[0;34m(\u001b[0m\u001b[0mdata_pca\u001b[0m\u001b[0;34m)\u001b[0m\u001b[0;34m\u001b[0m\u001b[0;34m\u001b[0m\u001b[0m\n\u001b[0m\u001b[1;32m      3\u001b[0m \u001b[0;32mexcept\u001b[0m\u001b[0;34m:\u001b[0m\u001b[0;34m\u001b[0m\u001b[0;34m\u001b[0m\u001b[0m\n",
      "\u001b[0;32m<ipython-input-40-e2bd78ab3f6f>\u001b[0m in \u001b[0;36mplot_scatter\u001b[0;34m(data_pca)\u001b[0m\n\u001b[1;32m      6\u001b[0m     \u001b[0;31m#Gera pontos de cores diferentes para cada espécie\u001b[0m\u001b[0;34m\u001b[0m\u001b[0;34m\u001b[0m\u001b[0;34m\u001b[0m\u001b[0m\n\u001b[0;32m----> 7\u001b[0;31m     \u001b[0;32mfor\u001b[0m \u001b[0mspec\u001b[0m \u001b[0;32min\u001b[0m \u001b[0mdata_pca\u001b[0m\u001b[0;34m[\u001b[0m\u001b[0;34m'species'\u001b[0m\u001b[0;34m]\u001b[0m\u001b[0;34m.\u001b[0m\u001b[0munique\u001b[0m\u001b[0;34m(\u001b[0m\u001b[0;34m)\u001b[0m\u001b[0;34m:\u001b[0m\u001b[0;34m\u001b[0m\u001b[0;34m\u001b[0m\u001b[0m\n\u001b[0m\u001b[1;32m      8\u001b[0m         ax.scatter(data_pca[data_pca['species'] == spec]['PC1'], \n",
      "\u001b[0;32m~/anaconda3/lib/python3.7/site-packages/pandas/core/frame.py\u001b[0m in \u001b[0;36m__getitem__\u001b[0;34m(self, key)\u001b[0m\n\u001b[1;32m   2687\u001b[0m         \u001b[0;32melse\u001b[0m\u001b[0;34m:\u001b[0m\u001b[0;34m\u001b[0m\u001b[0;34m\u001b[0m\u001b[0m\n\u001b[0;32m-> 2688\u001b[0;31m             \u001b[0;32mreturn\u001b[0m \u001b[0mself\u001b[0m\u001b[0;34m.\u001b[0m\u001b[0m_getitem_column\u001b[0m\u001b[0;34m(\u001b[0m\u001b[0mkey\u001b[0m\u001b[0;34m)\u001b[0m\u001b[0;34m\u001b[0m\u001b[0;34m\u001b[0m\u001b[0m\n\u001b[0m\u001b[1;32m   2689\u001b[0m \u001b[0;34m\u001b[0m\u001b[0m\n",
      "\u001b[0;32m~/anaconda3/lib/python3.7/site-packages/pandas/core/frame.py\u001b[0m in \u001b[0;36m_getitem_column\u001b[0;34m(self, key)\u001b[0m\n\u001b[1;32m   2694\u001b[0m         \u001b[0;32mif\u001b[0m \u001b[0mself\u001b[0m\u001b[0;34m.\u001b[0m\u001b[0mcolumns\u001b[0m\u001b[0;34m.\u001b[0m\u001b[0mis_unique\u001b[0m\u001b[0;34m:\u001b[0m\u001b[0;34m\u001b[0m\u001b[0;34m\u001b[0m\u001b[0m\n\u001b[0;32m-> 2695\u001b[0;31m             \u001b[0;32mreturn\u001b[0m \u001b[0mself\u001b[0m\u001b[0;34m.\u001b[0m\u001b[0m_get_item_cache\u001b[0m\u001b[0;34m(\u001b[0m\u001b[0mkey\u001b[0m\u001b[0;34m)\u001b[0m\u001b[0;34m\u001b[0m\u001b[0;34m\u001b[0m\u001b[0m\n\u001b[0m\u001b[1;32m   2696\u001b[0m \u001b[0;34m\u001b[0m\u001b[0m\n",
      "\u001b[0;32m~/anaconda3/lib/python3.7/site-packages/pandas/core/generic.py\u001b[0m in \u001b[0;36m_get_item_cache\u001b[0;34m(self, item)\u001b[0m\n\u001b[1;32m   2488\u001b[0m         \u001b[0;32mif\u001b[0m \u001b[0mres\u001b[0m \u001b[0;32mis\u001b[0m \u001b[0;32mNone\u001b[0m\u001b[0;34m:\u001b[0m\u001b[0;34m\u001b[0m\u001b[0;34m\u001b[0m\u001b[0m\n\u001b[0;32m-> 2489\u001b[0;31m             \u001b[0mvalues\u001b[0m \u001b[0;34m=\u001b[0m \u001b[0mself\u001b[0m\u001b[0;34m.\u001b[0m\u001b[0m_data\u001b[0m\u001b[0;34m.\u001b[0m\u001b[0mget\u001b[0m\u001b[0;34m(\u001b[0m\u001b[0mitem\u001b[0m\u001b[0;34m)\u001b[0m\u001b[0;34m\u001b[0m\u001b[0;34m\u001b[0m\u001b[0m\n\u001b[0m\u001b[1;32m   2490\u001b[0m             \u001b[0mres\u001b[0m \u001b[0;34m=\u001b[0m \u001b[0mself\u001b[0m\u001b[0;34m.\u001b[0m\u001b[0m_box_item_values\u001b[0m\u001b[0;34m(\u001b[0m\u001b[0mitem\u001b[0m\u001b[0;34m,\u001b[0m \u001b[0mvalues\u001b[0m\u001b[0;34m)\u001b[0m\u001b[0;34m\u001b[0m\u001b[0;34m\u001b[0m\u001b[0m\n",
      "\u001b[0;32m~/anaconda3/lib/python3.7/site-packages/pandas/core/internals.py\u001b[0m in \u001b[0;36mget\u001b[0;34m(self, item, fastpath)\u001b[0m\n\u001b[1;32m   4114\u001b[0m             \u001b[0;32mif\u001b[0m \u001b[0;32mnot\u001b[0m \u001b[0misna\u001b[0m\u001b[0;34m(\u001b[0m\u001b[0mitem\u001b[0m\u001b[0;34m)\u001b[0m\u001b[0;34m:\u001b[0m\u001b[0;34m\u001b[0m\u001b[0;34m\u001b[0m\u001b[0m\n\u001b[0;32m-> 4115\u001b[0;31m                 \u001b[0mloc\u001b[0m \u001b[0;34m=\u001b[0m \u001b[0mself\u001b[0m\u001b[0;34m.\u001b[0m\u001b[0mitems\u001b[0m\u001b[0;34m.\u001b[0m\u001b[0mget_loc\u001b[0m\u001b[0;34m(\u001b[0m\u001b[0mitem\u001b[0m\u001b[0;34m)\u001b[0m\u001b[0;34m\u001b[0m\u001b[0;34m\u001b[0m\u001b[0m\n\u001b[0m\u001b[1;32m   4116\u001b[0m             \u001b[0;32melse\u001b[0m\u001b[0;34m:\u001b[0m\u001b[0;34m\u001b[0m\u001b[0;34m\u001b[0m\u001b[0m\n",
      "\u001b[0;32m~/anaconda3/lib/python3.7/site-packages/pandas/core/indexes/base.py\u001b[0m in \u001b[0;36mget_loc\u001b[0;34m(self, key, method, tolerance)\u001b[0m\n\u001b[1;32m   3079\u001b[0m             \u001b[0;32mexcept\u001b[0m \u001b[0mKeyError\u001b[0m\u001b[0;34m:\u001b[0m\u001b[0;34m\u001b[0m\u001b[0;34m\u001b[0m\u001b[0m\n\u001b[0;32m-> 3080\u001b[0;31m                 \u001b[0;32mreturn\u001b[0m \u001b[0mself\u001b[0m\u001b[0;34m.\u001b[0m\u001b[0m_engine\u001b[0m\u001b[0;34m.\u001b[0m\u001b[0mget_loc\u001b[0m\u001b[0;34m(\u001b[0m\u001b[0mself\u001b[0m\u001b[0;34m.\u001b[0m\u001b[0m_maybe_cast_indexer\u001b[0m\u001b[0;34m(\u001b[0m\u001b[0mkey\u001b[0m\u001b[0;34m)\u001b[0m\u001b[0;34m)\u001b[0m\u001b[0;34m\u001b[0m\u001b[0;34m\u001b[0m\u001b[0m\n\u001b[0m\u001b[1;32m   3081\u001b[0m \u001b[0;34m\u001b[0m\u001b[0m\n",
      "\u001b[0;32mpandas/_libs/index.pyx\u001b[0m in \u001b[0;36mpandas._libs.index.IndexEngine.get_loc\u001b[0;34m()\u001b[0m\n",
      "\u001b[0;32mpandas/_libs/index.pyx\u001b[0m in \u001b[0;36mpandas._libs.index.IndexEngine.get_loc\u001b[0;34m()\u001b[0m\n",
      "\u001b[0;32mpandas/_libs/hashtable_class_helper.pxi\u001b[0m in \u001b[0;36mpandas._libs.hashtable.PyObjectHashTable.get_item\u001b[0;34m()\u001b[0m\n",
      "\u001b[0;32mpandas/_libs/hashtable_class_helper.pxi\u001b[0m in \u001b[0;36mpandas._libs.hashtable.PyObjectHashTable.get_item\u001b[0;34m()\u001b[0m\n",
      "\u001b[0;31mKeyError\u001b[0m: 'species'",
      "\nDuring handling of the above exception, another exception occurred:\n",
      "\u001b[0;31mValueError\u001b[0m                                Traceback (most recent call last)",
      "\u001b[0;32m<ipython-input-42-d74f8f576953>\u001b[0m in \u001b[0;36m<module>\u001b[0;34m\u001b[0m\n\u001b[1;32m      2\u001b[0m     \u001b[0mplot_scatter\u001b[0m\u001b[0;34m(\u001b[0m\u001b[0mdata_pca\u001b[0m\u001b[0;34m)\u001b[0m\u001b[0;34m\u001b[0m\u001b[0;34m\u001b[0m\u001b[0m\n\u001b[1;32m      3\u001b[0m \u001b[0;32mexcept\u001b[0m\u001b[0;34m:\u001b[0m\u001b[0;34m\u001b[0m\u001b[0;34m\u001b[0m\u001b[0m\n\u001b[0;32m----> 4\u001b[0;31m     \u001b[0;32mraise\u001b[0m \u001b[0mValueError\u001b[0m\u001b[0;34m(\u001b[0m\u001b[0;34m\"O DataFrame não cumpri os requisitos necessários.\"\u001b[0m\u001b[0;34m)\u001b[0m\u001b[0;34m\u001b[0m\u001b[0;34m\u001b[0m\u001b[0m\n\u001b[0m",
      "\u001b[0;31mValueError\u001b[0m: O DataFrame não cumpri os requisitos necessários."
     ]
    },
    {
     "data": {
      "image/png": "[encoded data removed]",
      "text/plain": [
       "<Figure size 432x288 with 1 Axes>"
      ]
     },
     "metadata": {
      "needs_background": "light"
     },
     "output_type": "display_data"
    }
   ],
   "source": [
    "try:\n",
    "    plot_scatter(data_pca)\n",
    "except:\n",
    "    raise ValueError(\"O DataFrame não cumpri os requisitos necessários.\")"
   ]
  },
  {
   "cell_type": "code",
   "execution_count": null,
   "metadata": {},
   "outputs": [],
   "source": []
  },
  {
   "cell_type": "markdown",
   "metadata": {
    "nbgrader": {
     "checksum": "f0d8a6e6f1796dd2b93de6fdf2ab1045",
     "grade": false,
     "grade_id": "RO_title_pca",
     "locked": true,
     "schema_version": 1,
     "solution": false
    }
   },
   "source": [
    "##  Parte 3 - Feature Selection & Dimensionality Reduction"
   ]
  },
  {
   "cell_type": "markdown",
   "metadata": {},
   "source": [
    "Nessa próxima parte usaremos métodos de **Feature Selection** e **Dimensionality Reduction** para que possamos selecionar as melhores features do DataSet para serem usadas no nosso modelo."
   ]
  },
  {
   "cell_type": "markdown",
   "metadata": {},
   "source": [
    "### 3.1 - Random Forest"
   ]
  },
  {
   "cell_type": "code",
   "execution_count": 35,
   "metadata": {},
   "outputs": [
    {
     "data": {
      "text/plain": [
       "array([0.05662591, 0.23978546, 0.23946969, 0.05324723, 0.03520829,\n",
       "       0.2328507 , 0.03602961, 0.0109543 , 0.00734982, 0.01368906,\n",
       "       0.00705176, 0.03399735, 0.00525851, 0.02848231])"
      ]
     },
     "execution_count": 35,
     "metadata": {},
     "output_type": "execute_result"
    }
   ],
   "source": [
    "#Importa a biblioteca Random Forest\n",
    "from sklearn.ensemble import RandomForestClassifier\n",
    "\n",
    "#Aqui reusaremos o DataFrame do titanic e a coluna target\n",
    "titanic\n",
    "target\n",
    "\n",
    "#Cria classificador passando seus parâmetros, neste momento usaremos apenas os default. \n",
    "#Parâmetros podem ser verificados no link abaixo\n",
    "#http://scikit-learn.org/stable/modules/generated/sklearn.ensemble.RandomForestClassifier.html\n",
    "clf = RandomForestClassifier()\n",
    "\n",
    "#Utilizamos a função .fit para treinar nosso modelo\n",
    "clf.fit(titanic, target)\n",
    "\n",
    "#Após o treinamento, podemos verificar o Feature Information do modelo gerado\n",
    "clf.feature_importances_"
   ]
  },
  {
   "cell_type": "markdown",
   "metadata": {},
   "source": [
    "### 3.2 - Decision Tree"
   ]
  },
  {
   "cell_type": "code",
   "execution_count": 39,
   "metadata": {},
   "outputs": [
    {
     "data": {
      "text/plain": [
       "array([0.11316123, 0.30933519, 0.21254547, 0.04691217, 0.04163325,\n",
       "       0.21943577, 0.01833539, 0.004546  , 0.00066296, 0.01652339,\n",
       "       0.        , 0.        , 0.00994436, 0.00696482])"
      ]
     },
     "execution_count": 39,
     "metadata": {},
     "output_type": "execute_result"
    }
   ],
   "source": [
    "#Importa a bilbioteca Decision Tree\n",
    "from sklearn.tree import DecisionTreeClassifier\n",
    "\n",
    "#Cria classificador passando seus parâmetros, neste momento usaremos apenas os default.\n",
    "dtree = DecisionTreeClassifier()\n",
    "\n",
    "dtree.fit(titanic,target)\n",
    "\n",
    "dtree.feature_importances_"
   ]
  },
  {
   "cell_type": "markdown",
   "metadata": {},
   "source": [
    "### 3.3 - Isomap"
   ]
  },
  {
   "cell_type": "markdown",
   "metadata": {},
   "source": [
    "### 3.4 - TSNE (t-distributed Stochastic Neighbor Embedding)"
   ]
  },
  {
   "cell_type": "code",
   "execution_count": null,
   "metadata": {},
   "outputs": [],
   "source": []
  }
 ],
 "metadata": {
  "celltoolbar": "Edit Metadata",
  "kernelspec": {
   "display_name": "Python 3",
   "language": "python",
   "name": "python3"
  },
  "language_info": {
   "codemirror_mode": {
    "name": "ipython",
    "version": 3
   },
   "file_extension": ".py",
   "mimetype": "text/x-python",
   "name": "python",
   "nbconvert_exporter": "python",
   "pygments_lexer": "ipython3",
   "version": "3.6.5"
  }
 },
 "nbformat": 4,
 "nbformat_minor": 2
}
