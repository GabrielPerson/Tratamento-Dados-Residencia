{
 "cells": [
  {
   "cell_type": "markdown",
   "metadata": {},
   "source": [
    "![](unimed.png)"
   ]
  },
  {
   "cell_type": "markdown",
   "metadata": {},
   "source": [
    "---\n",
    "## Exercícios sobre tratamendo de dados\n",
    "\n",
    "Descrição dos Dados:   https://archive.ics.uci.edu/ml/datasets/Wine+Quality\n",
    "\n",
    "Os dados estarão disponíveis no arquivo **winequality-red.csv**\n",
    "\n",
    "\n",
    "Agora vamos botar a mão na massa. Usaremos um novo DataSet para aplicar o que aprendemos hoje: tratamento de valores faltantes, discretização, normalização, PCA, Feature Selection e Dimensionality Reduction. Usaremos bilbiotecas como numpy, pandas e scikit-learn."
   ]
  },
  {
   "cell_type": "markdown",
   "metadata": {},
   "source": [
    "Agora vamos botar a mão na massa. Usaremos um novo DataSet para aplicar o que aprendemos hoje: tratamento de valores faltantes, discretização, normalização, PCA, Feature Selection e Dimensionality Reduction."
   ]
  },
  {
   "cell_type": "markdown",
   "metadata": {},
   "source": [
    "## Importação de bibliotecas e Carregamento do DataSet"
   ]
  },
  {
   "cell_type": "code",
   "execution_count": 75,
   "metadata": {},
   "outputs": [
    {
     "data": {
      "text/plain": [
       "'Agora, leia o arquivo CSV winequality-red.csv e salve em uma variável'"
      ]
     },
     "execution_count": 75,
     "metadata": {},
     "output_type": "execute_result"
    }
   ],
   "source": [
    "\"\"\"Importe as bibliotecas que usaremos,como numpy, pandas, matplotib, etc\"\"\"\n",
    "#YOUR CODE HERE\n",
    "\n",
    "\"\"\"Agora, leia o arquivo CSV winequality-red.csv e salve em uma variável\"\"\"\n",
    "#YOUR CODE HERE"
   ]
  },
  {
   "cell_type": "markdown",
   "metadata": {},
   "source": [
    "Veja agora como são os dados do DataSet e algumas caracteristicas deles. Funções .head( ) e .describe( ) podem ajudar."
   ]
  },
  {
   "cell_type": "code",
   "execution_count": 33,
   "metadata": {},
   "outputs": [
    {
     "data": {
      "text/html": [
       "<div>\n",
       "<style scoped>\n",
       "    .dataframe tbody tr th:only-of-type {\n",
       "        vertical-align: middle;\n",
       "    }\n",
       "\n",
       "    .dataframe tbody tr th {\n",
       "        vertical-align: top;\n",
       "    }\n",
       "\n",
       "    .dataframe thead th {\n",
       "        text-align: right;\n",
       "    }\n",
       "</style>\n",
       "<table border=\"1\" class=\"dataframe\">\n",
       "  <thead>\n",
       "    <tr style=\"text-align: right;\">\n",
       "      <th></th>\n",
       "      <th>fixed acidity</th>\n",
       "      <th>volatile acidity</th>\n",
       "      <th>citric acid</th>\n",
       "      <th>residual sugar</th>\n",
       "      <th>chlorides</th>\n",
       "      <th>free sulfur dioxide</th>\n",
       "      <th>total sulfur dioxide</th>\n",
       "      <th>density</th>\n",
       "      <th>pH</th>\n",
       "      <th>sulphates</th>\n",
       "      <th>alcohol</th>\n",
       "      <th>quality</th>\n",
       "    </tr>\n",
       "  </thead>\n",
       "  <tbody>\n",
       "    <tr>\n",
       "      <th>0</th>\n",
       "      <td>7.4</td>\n",
       "      <td>0.70</td>\n",
       "      <td>0.00</td>\n",
       "      <td>1.9</td>\n",
       "      <td>0.076</td>\n",
       "      <td>11.0</td>\n",
       "      <td>NaN</td>\n",
       "      <td>0.9978</td>\n",
       "      <td>3.51</td>\n",
       "      <td>0.56</td>\n",
       "      <td>9.4</td>\n",
       "      <td>5</td>\n",
       "    </tr>\n",
       "    <tr>\n",
       "      <th>1</th>\n",
       "      <td>7.8</td>\n",
       "      <td>0.88</td>\n",
       "      <td>0.00</td>\n",
       "      <td>2.6</td>\n",
       "      <td>0.098</td>\n",
       "      <td>25.0</td>\n",
       "      <td>67.0</td>\n",
       "      <td>0.9968</td>\n",
       "      <td>3.20</td>\n",
       "      <td>0.68</td>\n",
       "      <td>9.8</td>\n",
       "      <td>5</td>\n",
       "    </tr>\n",
       "    <tr>\n",
       "      <th>2</th>\n",
       "      <td>7.8</td>\n",
       "      <td>NaN</td>\n",
       "      <td>0.04</td>\n",
       "      <td>2.3</td>\n",
       "      <td>0.092</td>\n",
       "      <td>15.0</td>\n",
       "      <td>54.0</td>\n",
       "      <td>0.9970</td>\n",
       "      <td>3.26</td>\n",
       "      <td>0.65</td>\n",
       "      <td>9.8</td>\n",
       "      <td>5</td>\n",
       "    </tr>\n",
       "    <tr>\n",
       "      <th>3</th>\n",
       "      <td>11.2</td>\n",
       "      <td>0.28</td>\n",
       "      <td>0.56</td>\n",
       "      <td>1.9</td>\n",
       "      <td>0.075</td>\n",
       "      <td>17.0</td>\n",
       "      <td>60.0</td>\n",
       "      <td>NaN</td>\n",
       "      <td>NaN</td>\n",
       "      <td>NaN</td>\n",
       "      <td>NaN</td>\n",
       "      <td>6</td>\n",
       "    </tr>\n",
       "    <tr>\n",
       "      <th>4</th>\n",
       "      <td>NaN</td>\n",
       "      <td>0.70</td>\n",
       "      <td>0.00</td>\n",
       "      <td>NaN</td>\n",
       "      <td>NaN</td>\n",
       "      <td>11.0</td>\n",
       "      <td>34.0</td>\n",
       "      <td>NaN</td>\n",
       "      <td>3.51</td>\n",
       "      <td>0.56</td>\n",
       "      <td>9.4</td>\n",
       "      <td>5</td>\n",
       "    </tr>\n",
       "  </tbody>\n",
       "</table>\n",
       "</div>"
      ],
      "text/plain": [
       "   fixed acidity  volatile acidity  citric acid  residual sugar  chlorides  \\\n",
       "0            7.4              0.70         0.00             1.9      0.076   \n",
       "1            7.8              0.88         0.00             2.6      0.098   \n",
       "2            7.8               NaN         0.04             2.3      0.092   \n",
       "3           11.2              0.28         0.56             1.9      0.075   \n",
       "4            NaN              0.70         0.00             NaN        NaN   \n",
       "\n",
       "   free sulfur dioxide  total sulfur dioxide  density    pH  sulphates  \\\n",
       "0                 11.0                   NaN   0.9978  3.51       0.56   \n",
       "1                 25.0                  67.0   0.9968  3.20       0.68   \n",
       "2                 15.0                  54.0   0.9970  3.26       0.65   \n",
       "3                 17.0                  60.0      NaN   NaN        NaN   \n",
       "4                 11.0                  34.0      NaN  3.51       0.56   \n",
       "\n",
       "   alcohol  quality  \n",
       "0      9.4        5  \n",
       "1      9.8        5  \n",
       "2      9.8        5  \n",
       "3      NaN        6  \n",
       "4      9.4        5  "
      ]
     },
     "execution_count": 33,
     "metadata": {},
     "output_type": "execute_result"
    }
   ],
   "source": [
    "#YOUR CODE HERE\n"
   ]
  },
  {
   "cell_type": "code",
   "execution_count": null,
   "metadata": {},
   "outputs": [],
   "source": []
  },
  {
   "cell_type": "markdown",
   "metadata": {},
   "source": [
    "Pode-ser ver que nem todos os dados estão presentes. Temos muitos dados faltantes. Pense na maneira mais adequada de preenche-los. Podemos usar média, mediana, remoção..."
   ]
  },
  {
   "cell_type": "code",
   "execution_count": 73,
   "metadata": {},
   "outputs": [],
   "source": [
    "#YOUR CODE HERE"
   ]
  },
  {
   "cell_type": "code",
   "execution_count": 72,
   "metadata": {},
   "outputs": [],
   "source": [
    "#Describe\n",
    "#YOUR CODE HERE"
   ]
  },
  {
   "cell_type": "markdown",
   "metadata": {},
   "source": [
    "Antes de normalizar os dados do DataSet, devemos retirar nosso **Target**, representado pela coluna **quality**, pois esse não deve ser normalizado. Lembre-se de salvá-lo. Ainda será muito util."
   ]
  },
  {
   "cell_type": "code",
   "execution_count": 71,
   "metadata": {},
   "outputs": [],
   "source": [
    "#YOUR CODE HERE"
   ]
  },
  {
   "cell_type": "markdown",
   "metadata": {},
   "source": [
    "Percebe-se que nossos dados se encontram em dominios muito diferentes. Isso pode ser prejudicial para o modelo que queremo usar. Vamos Normalizá-los utilizando normalização **MaxMin** e **Gaussiana**. <br>\n",
    "Podemos usar a função **.describe( )** e até histogramas para termos uma noção melhor dos dados normalizados."
   ]
  },
  {
   "cell_type": "code",
   "execution_count": 70,
   "metadata": {},
   "outputs": [],
   "source": [
    "#Media MaxMin [0,1]\n",
    "#YOUR CODE HERE"
   ]
  },
  {
   "cell_type": "code",
   "execution_count": 69,
   "metadata": {},
   "outputs": [],
   "source": [
    "#Describe\n",
    "#YOUR CODE HERE"
   ]
  },
  {
   "cell_type": "code",
   "execution_count": 67,
   "metadata": {},
   "outputs": [],
   "source": [
    "#Media Gaussiana Z-Score\n",
    "#YOUR CODE HERE\n"
   ]
  },
  {
   "cell_type": "code",
   "execution_count": 68,
   "metadata": {},
   "outputs": [],
   "source": [
    "#Describe\n",
    "#YOUR CODE HERE"
   ]
  },
  {
   "cell_type": "markdown",
   "metadata": {},
   "source": [
    "## Redução de Dimensionalidade"
   ]
  },
  {
   "cell_type": "markdown",
   "metadata": {},
   "source": [
    "### PCA"
   ]
  },
  {
   "cell_type": "markdown",
   "metadata": {},
   "source": [
    "Agora vamos utilizar o PCA para reduzir a dimensionalidade dos nossos dados.\n",
    "\n",
    "O PCA é uma ferramenta importante usada em datasets com muitos atributos, sendo capaz de reduzir sua dimensionalidade analisando seus componentes principais, para que possamos usa-los em nosso modelo garantindo eficiencia sem muita perda de informação.\n",
    "\n",
    "Inicialmente, vamos nos guiar pela documentação da biblioteca, que você pode acessar clicando <a href=\"http://scikit-learn.org/stable/modules/generated/sklearn.decomposition.PCA.html\">aqui</a>.\n",
    "\n",
    "Em um primeiro momento, não devemos passar nenhum valor para o parâmetro **n_components**, dessa forma, podemos visualizar todos os componentes principais gerados e posteriormente decidirmos o número de componentes a serem utilizados."
   ]
  },
  {
   "cell_type": "markdown",
   "metadata": {},
   "source": [
    "Para facilitar o processo de visualização vamos usar a função **plot_scatter** para ter uma ideia de como as principais features se relacionam com o target do nosso DataSet"
   ]
  },
  {
   "cell_type": "code",
   "execution_count": 43,
   "metadata": {},
   "outputs": [],
   "source": [
    "def plot_scatter(pca_data, target, title=''):\n",
    "    colors = ['white','white','white','red', 'blue','green','black','magenta','cyan']\n",
    "    for x, y in zip(pca_data, target):\n",
    "        plt.scatter(x[0], x[1], label=y, color=colors[y])\n",
    "    plt.title(title)\n",
    "    plt.xlabel('Component 1')\n",
    "    plt.ylabel('Component 2')\n",
    "    return plt.show()"
   ]
  },
  {
   "cell_type": "code",
   "execution_count": 66,
   "metadata": {},
   "outputs": [
    {
     "data": {
      "text/plain": [
       "'Pode ser uma boa idea fazer um plot com as 3 curvas para\\ncompararmos como as normalizações afetam as variâncias'"
      ]
     },
     "execution_count": 66,
     "metadata": {},
     "output_type": "execute_result"
    }
   ],
   "source": [
    "\"\"\"Importe a função PCA da biblioteca sklearn\"\"\"\n",
    "#YOUR CODE HERE\n",
    "\n",
    "\"\"\"Crie uma variável pca que receba a função PCA(), em seguida treine o modelo com seus dados \n",
    "e analise a porcentagem de variância explicada por cada componente principal.\n",
    "Dica: arrays possuem a função .cumsum() que permite visualizar o valor acumulativos de seus itens.\"\"\"\n",
    "\n",
    "\"\"\"Aplique a PCA para o DataSet e para cada normalização que fizemos\"\"\"\n",
    "\"\"\"Pode ser uma boa idea fazer um plot com as 3 curvas para\n",
    "compararmos como as normalizações afetam as variâncias\"\"\"\n",
    "#YOUR CODE HERE\n"
   ]
  },
  {
   "cell_type": "code",
   "execution_count": 64,
   "metadata": {},
   "outputs": [],
   "source": [
    "#YOUR CODE HERE\n"
   ]
  },
  {
   "cell_type": "markdown",
   "metadata": {},
   "source": [
    "Baseando-se na análise realizada acima, já podemos reduzir a dimensionalidade de nossos dados. Agora o parâmetro **n_components** deve ser alterado recebendo como valor o número de componentes principais necessários para explicar no mínimo 90% da variância dos dados. Após a alteração do parâmetro, o modelo deve ser retreinado e em seguida, podemos realizar a transformação dos dados."
   ]
  },
  {
   "cell_type": "markdown",
   "metadata": {},
   "source": [
    "### t-SNE\n",
    "\n",
    "Vamos usar agora a t-SNE como uma outra alternativa para reduzir a dimensionalidade do nosso DataSet. Assim como na aula, usaremos nossos dados não-normalizados.\n",
    "\n",
    "Aproveite e aplique o TSNE para diferentes valores de **perplexity**"
   ]
  },
  {
   "cell_type": "code",
   "execution_count": 63,
   "metadata": {},
   "outputs": [
    {
     "data": {
      "text/plain": [
       "'Importe a função TSNE de sklearn e aplique-a para diferentes\\nvalores de perplexidade'"
      ]
     },
     "execution_count": 63,
     "metadata": {},
     "output_type": "execute_result"
    }
   ],
   "source": [
    "\"\"\"Importe a função TSNE de sklearn e aplique-a para diferentes\n",
    "valores de perplexidade\"\"\"\n",
    "#YOUR CODE HERE\n"
   ]
  },
  {
   "cell_type": "markdown",
   "metadata": {},
   "source": [
    "## Feature Selection\n",
    "\n",
    "Para a parte de **Feature Selection** usaremos técinas para selecionar os melhores atributos do nosso DataSet que possam ser usados em nosso modelo de maneira mais eficiente e que representem melhor sua totalidade."
   ]
  },
  {
   "cell_type": "markdown",
   "metadata": {},
   "source": [
    "Inicialmente vamos usar ferramentas da biblioteca **sklearn** para selecionar as N melhores features do nosso DataSet. Através do calculo do PCA já temos uma idea de quais são as melhores features para usarmos no nosso modelo."
   ]
  },
  {
   "cell_type": "markdown",
   "metadata": {},
   "source": [
    "### Information Gain (Decision Tree)\n",
    "\n",
    "Primeiramente usaremos o método de arvore de decisão juntamente com o Information Gain através do cálculo de entropia para selecionar as melhores features do nosso DataSet"
   ]
  },
  {
   "cell_type": "code",
   "execution_count": 62,
   "metadata": {},
   "outputs": [
    {
     "data": {
      "text/plain": [
       "'Importe a função DecisionTreeClassifier de sklearn e aplique\\nao DataSet não normalizado. Queremos saber as importancias de \\ncada feature. De preferencia plote um grafico para uma melhor visualização.\\nPode-se usar o implementado em aula.'"
      ]
     },
     "execution_count": 62,
     "metadata": {},
     "output_type": "execute_result"
    }
   ],
   "source": [
    "\"\"\"Importe a função DecisionTreeClassifier de sklearn e aplique\n",
    "ao DataSet não normalizado. Queremos saber as importancias de \n",
    "cada feature. De preferencia plote um grafico para uma melhor visualização.\n",
    "Pode-se usar o implementado em aula.\"\"\"\n",
    "#YOUR CODE HERE"
   ]
  },
  {
   "cell_type": "code",
   "execution_count": 61,
   "metadata": {},
   "outputs": [
    {
     "data": {
      "text/plain": [
       "'Aplique o DecisionTreeClassifier ao DataSet normalizado MinMax. \\nQueremos saber as importancias de cada feature. \\nDe preferencia plote um grafico para uma melhor visualização.\\nPode-se usar o implementado em aula.'"
      ]
     },
     "execution_count": 61,
     "metadata": {},
     "output_type": "execute_result"
    }
   ],
   "source": [
    "\"\"\"Aplique o DecisionTreeClassifier ao DataSet normalizado MinMax. \n",
    "Queremos saber as importancias de cada feature. \n",
    "De preferencia plote um grafico para uma melhor visualização.\n",
    "Pode-se usar o implementado em aula.\"\"\"\n",
    "#YOUR CODE HERE\n"
   ]
  },
  {
   "cell_type": "markdown",
   "metadata": {},
   "source": [
    "### Gini (Random Forest)\n",
    "\n",
    "Agora usaremos a função **RandomForestClassifier**, que utiliza diversas árvores de decisão, para medir a importância de cada features \n",
    "no nosso DataSet. Usaremos gini como nosso critério no cálculo.\n"
   ]
  },
  {
   "cell_type": "code",
   "execution_count": 60,
   "metadata": {},
   "outputs": [
    {
     "data": {
      "text/plain": [
       "'Importe a função RandomForestClassifier e aplique ao DataSet\\nnão normalizado. Mesmo procedimento do Information Gain.'"
      ]
     },
     "execution_count": 60,
     "metadata": {},
     "output_type": "execute_result"
    }
   ],
   "source": [
    "\"\"\"Importe a função RandomForestClassifier e aplique ao DataSet\n",
    "não normalizado. Mesmo procedimento do Information Gain.\"\"\"\n",
    "#YOUR CODE HERE"
   ]
  },
  {
   "cell_type": "markdown",
   "metadata": {},
   "source": [
    "## Matriz de Correlações\n",
    "\n",
    "Por ultimo vamos criar uma matriz de correlações entre as features do DataSet utilizando um **HeatMap** da biblioteca **Seaborn**.\n",
    "\n",
    "Ja o fizemos na aula. Agora basta replicar para o DataSet que usamos aqui."
   ]
  },
  {
   "cell_type": "code",
   "execution_count": 59,
   "metadata": {},
   "outputs": [
    {
     "data": {
      "text/plain": [
       "'Importe a biblioteca Seaborn e plote a matriz de correlação'"
      ]
     },
     "execution_count": 59,
     "metadata": {},
     "output_type": "execute_result"
    }
   ],
   "source": [
    "\"\"\"Importe a biblioteca Seaborn e plote a matriz de correlação\"\"\"\n"
   ]
  },
  {
   "cell_type": "code",
   "execution_count": null,
   "metadata": {},
   "outputs": [],
   "source": []
  }
 ],
 "metadata": {
  "kernelspec": {
   "display_name": "Python 3",
   "language": "python",
   "name": "python3"
  },
  "language_info": {
   "codemirror_mode": {
    "name": "ipython",
    "version": 3
   },
   "file_extension": ".py",
   "mimetype": "text/x-python",
   "name": "python",
   "nbconvert_exporter": "python",
   "pygments_lexer": "ipython3",
   "version": "3.6.5"
  }
 },
 "nbformat": 4,
 "nbformat_minor": 2
}
